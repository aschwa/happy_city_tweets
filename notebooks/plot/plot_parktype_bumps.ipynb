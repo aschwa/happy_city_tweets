{
 "cells": [
  {
   "cell_type": "code",
   "execution_count": 1,
   "metadata": {},
   "outputs": [],
   "source": [
    "%matplotlib inline\n",
    "import json\n",
    "import pandas as pd\n",
    "import numpy as np\n",
    "import matplotlib.pyplot as plt\n",
    "import seaborn as sns\n",
    "from pathlib import Path\n",
    "plt.rcParams['figure.figsize'] = (8, 4)"
   ]
  },
  {
   "cell_type": "code",
   "execution_count": 2,
   "metadata": {},
   "outputs": [],
   "source": [
    "def interval(n, mean, std):\n",
    "    low, high = st.t.interval(0.95, 100-1, loc=mean, scale=std)\n",
    "    return low, high\n",
    "\n",
    "def plot_bumps(bumps, order, color='green'):\n",
    "    f, ax = plt.subplots(figsize=(6,len(bumps)/2+2))\n",
    "    #plt.grid()\n",
    "    a=ax.get_yticks().tolist()\n",
    "    y = range(len(bumps))\n",
    "    means = [np.mean(bumps[city]) for city in order]\n",
    "    width = [np.max(bumps[city])-np.min(bumps[city]) for city in order]\n",
    "    left = [np.min(bumps[city]) for city in order]\n",
    "    labels = order\n",
    "    ax.barh(y, width,height=.25,left=left, tick_label = labels, alpha=.5, color=color)\n",
    "    mean_pos = [pos for pos in y]\n",
    "    ax.scatter(means,mean_pos, s=5, color='black', facecolor='black', alpha=1)\n",
    "    return f, ax\n",
    "    "
   ]
  },
  {
   "cell_type": "code",
   "execution_count": 3,
   "metadata": {},
   "outputs": [],
   "source": [
    "new_labels = {'acres_gt_100':\"> 100\", 'acres_10_100':\"10 - 100\", 'acres_lt_1':\"< 1\", 'acres_1_10':\"1 - 10\"}\n",
    "order =['< 1', '1 - 10', '10 - 100','> 100']"
   ]
  },
  {
   "cell_type": "code",
   "execution_count": 1,
   "metadata": {},
   "outputs": [
    {
     "ename": "NameError",
     "evalue": "name 'plt' is not defined",
     "output_type": "error",
     "traceback": [
      "\u001b[0;31m---------------------------------------------------------------------------\u001b[0m",
      "\u001b[0;31mNameError\u001b[0m                                 Traceback (most recent call last)",
      "\u001b[0;32m<ipython-input-1-d169ec35e8bb>\u001b[0m in \u001b[0;36m<module>\u001b[0;34m\u001b[0m\n\u001b[0;32m----> 1\u001b[0;31m \u001b[0mplt\u001b[0m\u001b[0;34m.\u001b[0m\u001b[0mrcParams\u001b[0m\u001b[0;34m[\u001b[0m\u001b[0;34m'figure.figsize'\u001b[0m\u001b[0;34m]\u001b[0m \u001b[0;34m=\u001b[0m \u001b[0;34m(\u001b[0m\u001b[0;36m12\u001b[0m\u001b[0;34m,\u001b[0m \u001b[0;36m4\u001b[0m\u001b[0;34m)\u001b[0m\u001b[0;34m\u001b[0m\u001b[0m\n\u001b[0m\u001b[1;32m      2\u001b[0m \u001b[0;34m\u001b[0m\u001b[0m\n\u001b[1;32m      3\u001b[0m \u001b[0mresults_path\u001b[0m \u001b[0;34m=\u001b[0m \u001b[0;34m\"./results/bootstrap_allparktype.json\"\u001b[0m\u001b[0;34m\u001b[0m\u001b[0m\n\u001b[1;32m      4\u001b[0m \u001b[0;32mwith\u001b[0m \u001b[0mopen\u001b[0m\u001b[0;34m(\u001b[0m\u001b[0mresults_path\u001b[0m\u001b[0;34m)\u001b[0m \u001b[0;32mas\u001b[0m \u001b[0mf\u001b[0m\u001b[0;34m:\u001b[0m\u001b[0;34m\u001b[0m\u001b[0m\n\u001b[1;32m      5\u001b[0m     \u001b[0mresults\u001b[0m \u001b[0;34m=\u001b[0m \u001b[0mjson\u001b[0m\u001b[0;34m.\u001b[0m\u001b[0mload\u001b[0m\u001b[0;34m(\u001b[0m\u001b[0mf\u001b[0m\u001b[0;34m)\u001b[0m\u001b[0;34m\u001b[0m\u001b[0m\n",
      "\u001b[0;31mNameError\u001b[0m: name 'plt' is not defined"
     ]
    }
   ],
   "source": [
    "plt.rcParams['figure.figsize'] = (12, 4)\n",
    "\n",
    "results_path = \"./results/bootstrap_allparktype.json\"\n",
    "with open(results_path) as f:\n",
    "    results = json.load(f)\n",
    "new_results = {}\n",
    "for k,v in results.items():\n",
    "    new_results[new_labels[k]]  = v\n",
    "results = new_results\n",
    "mean_bumps = {k:np.mean(v) for k,v in results.items()}\n",
    "#order = sorted(mean_bumps, key=mean_bumps.get, reverse=False)\n",
    "f, ax = plot_bumps(results,order, color='black')\n",
    "ax.set_xlim(-.05,.25);\n",
    "#ax.set_title(\"Bumps By Day of week, Pooling <=1000 users per city, 1 tweet per user, time control\")\n",
    "ax.axvline(0, color='black');\n",
    "ax.set_xlim(-.05,.25)\n",
    "ax.set_xlabel(\"Sentiment Benefit\", fontsize=14)\n",
    "ax.set_ylabel(\"Park Size Bin (Acres)\", fontsize=14)\n",
    "ax.hlines(range(len(results)), -.05,.25, lw=.3)\n",
    "ax.axvline(0, color='black');\n",
    "plt.tight_layout()\n",
    "plt.xticks(fontsize=12); \n",
    "plt.yticks(fontsize=12); \n",
    "plt.tight_layout()\n",
    "ax.axvline(0, color='black');\n",
    "plt.savefig(\"results/parktype_all.png\")"
   ]
  },
  {
   "cell_type": "code",
   "execution_count": 30,
   "metadata": {},
   "outputs": [
    {
     "data": {
      "text/plain": [
       "{'> 100': 0.21475516187645133,\n",
       " '10 - 100': 0.1490691564846557,\n",
       " '< 1': 0.15525151072911977,\n",
       " '1 - 10': 0.17718212366658898}"
      ]
     },
     "execution_count": 30,
     "metadata": {},
     "output_type": "execute_result"
    }
   ],
   "source": [
    "mean_bumps"
   ]
  },
  {
   "cell_type": "code",
   "execution_count": 6,
   "metadata": {},
   "outputs": [],
   "source": [
    "results_path = \"./results/bootstrap_allparktype.json\"\n",
    "with open(results_path) as f:\n",
    "    city_results = json.load(f)"
   ]
  },
  {
   "cell_type": "code",
   "execution_count": 1,
   "metadata": {},
   "outputs": [],
   "source": [
    "order = ['acres_lt_1','acres_1_10','acres_10_100', 'acres_gt_100']\n",
    "#results = {k:v['park_sentiment'] for k,v in results.items()}\n",
    "for city, results in city_results.items(): \n",
    "    mean_bumps = {k:np.mean(v) for k,v in results.items()}\n",
    "    min_bumps = {k:np.min(v) for k,v in results.items()}\n",
    "    max_bumps = {k:np.max(v) for k,v in results.items()}\n",
    "    #order = sorted(mean_bumps, key=mean_bumps.get, reverse=False)\n",
    "    f, ax = plot_bumps(results,order)\n",
    "    x_min = np.round(min(min_bumps.values())-.1,1)\n",
    "    x_max = np.round(max(max_bumps.values())+.1,1)\n",
    "    ax.set_xlim(x_min,x_max);\n",
    "    ax.set_title(\"{} Bump By Park Category\\n 1 park tweet per user,5 runs selection 80% users\".format(city));\n",
    "    ax.axvline(0, color='black');\n",
    "    #plt.savefig('results/bumps_time.jpg')"
   ]
  }
 ],
 "metadata": {
  "kernelspec": {
   "display_name": "Python 3",
   "language": "python",
   "name": "python3"
  },
  "language_info": {
   "codemirror_mode": {
    "name": "ipython",
    "version": 3
   },
   "file_extension": ".py",
   "mimetype": "text/x-python",
   "name": "python",
   "nbconvert_exporter": "python",
   "pygments_lexer": "ipython3",
   "version": "3.6.6"
  }
 },
 "nbformat": 4,
 "nbformat_minor": 4
}
