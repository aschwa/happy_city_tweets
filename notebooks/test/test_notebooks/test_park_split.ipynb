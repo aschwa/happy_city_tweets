{
 "cells": [
  {
   "cell_type": "code",
   "execution_count": 1,
   "metadata": {
    "ExecuteTime": {
     "end_time": "2020-03-04T12:45:56.890916Z",
     "start_time": "2020-03-04T12:45:56.731908Z"
    }
   },
   "outputs": [],
   "source": [
    "%load_ext autoreload\n",
    "%autoreload 2"
   ]
  },
  {
   "cell_type": "code",
   "execution_count": 216,
   "metadata": {
    "ExecuteTime": {
     "end_time": "2020-03-04T12:45:57.328389Z",
     "start_time": "2020-03-04T12:45:57.266545Z"
    }
   },
   "outputs": [],
   "source": [
    "import json\n",
    "import os\n",
    "import pandas as pd\n",
    "from datetime import datetime\n",
    "import geopandas as gpd\n",
    "from pyproj import Proj, transform\n",
    "from pathlib import Path\n",
    "from dotenv import load_dotenv, find_dotenv\n",
    "from shapely.geometry import Point, Polygon, MultiPolygon, shape\n",
    "from geopandas.tools import sjoin\n",
    "\n",
    "#from src.hydra import mongo_utils\n",
    "from src.hydra import gather_tweets\n",
    "from src.func import geo_utils\n",
    "from src.func import tweet_utils\n",
    "from src.func import regex"
   ]
  },
  {
   "cell_type": "code",
   "execution_count": 230,
   "metadata": {},
   "outputs": [
    {
     "data": {
      "text/plain": [
       "'0644000'"
      ]
     },
     "execution_count": 230,
     "metadata": {},
     "output_type": "execute_result"
    }
   ],
   "source": [
    "tweet_dir = Path(\"../data/raw/tweets\").resolve()\n",
    "tweet_file = Path(\"CA_Los_Angeles_0644000.json\")\n",
    "tweet_file.stem[-7:]"
   ]
  },
  {
   "cell_type": "code",
   "execution_count": 4,
   "metadata": {
    "ExecuteTime": {
     "end_time": "2020-03-03T19:26:03.470342Z",
     "start_time": "2020-03-03T19:26:03.179280Z"
    }
   },
   "outputs": [
    {
     "name": "stdout",
     "output_type": "stream",
     "text": [
      "Total tweets in CA_Los_Angeles_0644000: 3597386\n"
     ]
    }
   ],
   "source": [
    "# Load a cities worth of tweets\n",
    "city = \"CA_Los_Angeles_0644000.json\"\n",
    "with open(\"../data/processed/city_tweets/{}.json\".format(city),'r') as f:\n",
    "    tweets = json.load(f)\n",
    "\n",
    "print(\"Total tweets in {}: {}\".format(city,len(tweets)))\n"
   ]
  },
  {
   "cell_type": "code",
   "execution_count": 218,
   "metadata": {},
   "outputs": [
    {
     "data": {
      "text/plain": [
       "PosixPath('/Users/aaron/code/research/data/raw/tweets')"
      ]
     },
     "execution_count": 218,
     "metadata": {},
     "output_type": "execute_result"
    }
   ],
   "source": [
    "tweet_dir = Path(\"../../data/raw/tweets\").resolve()\n",
    "tweet_dir"
   ]
  },
  {
   "cell_type": "code",
   "execution_count": 212,
   "metadata": {},
   "outputs": [],
   "source": [
    "tweets = pd.read_json(\"../data/raw/tweets/{}.json\".format(city))"
   ]
  },
  {
   "cell_type": "code",
   "execution_count": 232,
   "metadata": {},
   "outputs": [
    {
     "data": {
      "text/plain": [
       "3597386"
      ]
     },
     "execution_count": 232,
     "metadata": {},
     "output_type": "execute_result"
    }
   ],
   "source": [
    "len(tweets)"
   ]
  },
  {
   "cell_type": "code",
   "execution_count": 190,
   "metadata": {},
   "outputs": [],
   "source": [
    "def reproj_coords(coords):\n",
    "    tweet_crs = Proj({'proj': 'longlat', 'ellps': 'WGS84', 'datum': 'WGS84'})\n",
    "    tpl_crs = Proj({'proj': 'aea',\n",
    "     'lat_1': 20,\n",
    "     'lat_2': 60,\n",
    "     'lat_0': 40,\n",
    "     'lon_0': -96,\n",
    "     'x_0': 0,\n",
    "     'y_0': 0,\n",
    "     'datum': 'NAD83',\n",
    "     'units': 'm',\n",
    "     'no_defs': True,\n",
    "     'wktext': True})\n",
    "    lon = coords[0]\n",
    "    lat = coords[1]\n",
    "    #print(lon, lat)\n",
    "    lon,lat = transform(tweet_crs,tpl_crs,lon,lat)\n",
    "    return lon, lat\n",
    "\n",
    "tpl_crs = Proj({'proj': 'aea',\n",
    "     'lat_1': 20,\n",
    "     'lat_2': 60,\n",
    "     'lat_0': 40,\n",
    "     'lon_0': -96,\n",
    "     'x_0': 0,\n",
    "     'y_0': 0,\n",
    "     'datum': 'NAD83',\n",
    "     'units': 'm',\n",
    "     'no_defs': True,\n",
    "     'wktext': True})"
   ]
  },
  {
   "cell_type": "code",
   "execution_count": 87,
   "metadata": {},
   "outputs": [],
   "source": [
    "gdf = gpd.read_file('../data/raw/geo/ParkServe_shp_DataShare_05152019/ParkServe_shp_DataShare_05152019/ParkServe_Parks_05152019.shp')\n",
    "la_parks = gdf[gdf.Park_Pla_1==\"0644000\"].copy()\n",
    "\n",
    "# Can save subset of shapes as its own shp file\n",
    "# la_parks.to_file(\"CA_Los_Angeles_parks.zip\")"
   ]
  },
  {
   "cell_type": "code",
   "execution_count": 42,
   "metadata": {},
   "outputs": [
    {
     "data": {
      "text/plain": [
       "(array('d', [-1931597.1650395212]), array('d', [-450151.66028727]))"
      ]
     },
     "execution_count": 42,
     "metadata": {},
     "output_type": "execute_result"
    }
   ],
   "source": [
    "#shape(la_parks.iloc[1].geometry)[0].centroid.coords.xy\n",
    "#p1 = Point(la_parks.iloc[50].geometry.centroid.coords.xy[0][0], la_parks.iloc[50].geometry.centroid.coords.xy[1][0])"
   ]
  },
  {
   "cell_type": "code",
   "execution_count": null,
   "metadata": {},
   "outputs": [],
   "source": [
    "## Old way - andys\n",
    "name_col = \"Park_Name\"\n",
    "city_key = \"Park_Pla_1\"\n",
    "city_id = \"0644000\"\n",
    "pList, nList = geo_utils.loadGeneric('../data/raw/geo/ParkServe_shp_DataShare_05152019/ParkServe_shp_DataShare_05152019/ParkServe_Parks_05152019.shp',\n",
    "                                     name_col, city_key,city_id)\n",
    "\n",
    "print(\"Total park tweets in LA: {}\".format(len(park_tweets)))\n",
    "print(\"Total control tweets in LA: {}\".format(len(control_tweets)))"
   ]
  },
  {
   "cell_type": "code",
   "execution_count": 88,
   "metadata": {},
   "outputs": [
    {
     "name": "stdout",
     "output_type": "stream",
     "text": [
      "El Cariso Regional County Park And Golf Course\n"
     ]
    }
   ],
   "source": [
    "# Loop way \n",
    "la_parks.sort_values(by=\"Shape_Area\", inplace=True)\n",
    "\n",
    "tweet_sample = tweets[2000000:2000100]\n",
    "# reproject tweets properly\n",
    "# multipolyogne issues\n",
    "# sort tweets\n",
    "for tweet in tweet_sample:\n",
    "    point = Point(reproj_tweet(tweet))\n",
    "    for park in la_parks.iterrows():\n",
    "        if shape(park[1].geometry).contains(point):\n",
    "            print(park[1].Park_Name)\n",
    "            break"
   ]
  },
  {
   "cell_type": "code",
   "execution_count": 160,
   "metadata": {},
   "outputs": [],
   "source": [
    "# save just a few columns\n",
    "la_parks_tojoin =la_parks[['geometry','ParkID','Park_Name', 'Shape_Area']].copy()\n",
    "\n",
    "## Intersection between two geo data frames ##\n",
    "\n",
    "# Save tweets as df\n",
    "tweet_df = pd.DataFrame(tweets).set_index('id')\n",
    "# Drop Language\n",
    "tweet_df.drop(\"fastText_lang\", axis=1, inplace=True)\n",
    "\n",
    "# Convert coordinates to points, reprojceted into the TPL projection #\n",
    "tweet_geometry = [Point(reproj_coords(xy['coordinates'])) for xy in tweet_df.geo.values]\n",
    "\n",
    "# drop the geo field\n",
    "tweet_df = tweet_df.drop('geo',axis=1)\n",
    "# convert to geodataframe, with reprojeted geometry\n",
    "tweet_gdf = gpd.GeoDataFrame(tweet_df,crs= gdf.crs, geometry=tweet_geometry)\n",
    "tweet_gdf.head()"
   ]
  },
  {
   "cell_type": "code",
   "execution_count": 201,
   "metadata": {},
   "outputs": [
    {
     "name": "stdout",
     "output_type": "stream",
     "text": [
      "61783\n"
     ]
    }
   ],
   "source": [
    "# spatial join betweeen tweets and la parks\n",
    "pointInPolys = sjoin(tweet_gdf, la_parks_tojoin, how='left', op=\"within\")\n"
   ]
  },
  {
   "cell_type": "code",
   "execution_count": 206,
   "metadata": {},
   "outputs": [],
   "source": [
    "#pointInPolys.to_file(\"../la_tweets_parks.geojson\", driver=\"GeoJSON\")"
   ]
  },
  {
   "cell_type": "code",
   "execution_count": 208,
   "metadata": {},
   "outputs": [],
   "source": [
    "park_tweets = pointInPolys.dropna().copy()"
   ]
  },
  {
   "cell_type": "code",
   "execution_count": 209,
   "metadata": {},
   "outputs": [],
   "source": [
    "park_tweets.to_file(\"la_parktweets.geojson\", driver='GeoJSON')"
   ]
  }
 ],
 "metadata": {
  "kernelspec": {
   "display_name": "Python 3",
   "language": "python",
   "name": "python3"
  },
  "language_info": {
   "codemirror_mode": {
    "name": "ipython",
    "version": 3
   },
   "file_extension": ".py",
   "mimetype": "text/x-python",
   "name": "python",
   "nbconvert_exporter": "python",
   "pygments_lexer": "ipython3",
   "version": "3.6.6"
  }
 },
 "nbformat": 4,
 "nbformat_minor": 4
}
