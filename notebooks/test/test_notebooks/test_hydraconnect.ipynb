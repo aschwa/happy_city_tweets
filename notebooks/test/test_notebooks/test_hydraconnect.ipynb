{
 "cells": [
  {
   "cell_type": "code",
   "execution_count": 1,
   "metadata": {
    "ExecuteTime": {
     "end_time": "2020-03-20T13:58:27.814783Z",
     "start_time": "2020-03-20T13:58:26.486872Z"
    },
    "hideCode": false,
    "hidePrompt": false
   },
   "outputs": [],
   "source": [
    "import pandas as pd\n",
    "import numpy as np\n",
    "from datetime import timedelta, date\n",
    "from datetime import datetime\n",
    "from pymongo import MongoClient\n",
    "from pymongo.collation import Collation, CollationStrength\n",
    "import geopandas as geopd\n",
    "import shapely.geometry\n",
    "import json\n",
    "import pytz\n",
    "import geopandas as gpd\n",
    "import matplotlib.pyplot as plt\n",
    "plt.rcParams['figure.figsize'] = (20, 10)"
   ]
  },
  {
   "cell_type": "code",
   "execution_count": 2,
   "metadata": {
    "ExecuteTime": {
     "end_time": "2020-03-20T13:58:27.826243Z",
     "start_time": "2020-03-20T13:58:27.819018Z"
    }
   },
   "outputs": [],
   "source": [
    "def geotweet_connect(username, pwd):\n",
    "    client = MongoClient('mongodb://%s:%s@hydra.uvm.edu:27016' % (username, pwd))\n",
    "    db = client['tweets']\n",
    "    geotweets = db['geotweets']\n",
    "    return geotweets"
   ]
  },
  {
   "cell_type": "code",
   "execution_count": 4,
   "metadata": {
    "ExecuteTime": {
     "end_time": "2020-03-20T13:58:39.928440Z",
     "start_time": "2020-03-20T13:58:39.925050Z"
    }
   },
   "outputs": [],
   "source": [
    "## connect locally (oncampus or over vpn)\n",
    "\n",
    "#geotweets = geotweet_connect('guest','roboctopus')\n",
    "#print(geotweets.estimated_document_count())"
   ]
  },
  {
   "cell_type": "code",
   "execution_count": 4,
   "metadata": {
    "ExecuteTime": {
     "end_time": "2020-03-20T13:58:41.778963Z",
     "start_time": "2020-03-20T13:58:41.770184Z"
    }
   },
   "outputs": [
    {
     "data": {
      "text/plain": [
       "{'_id': ObjectId('5e443d0515ada31b8b30b207'),\n",
       " 'contributors': None,\n",
       " 'retweeted': False,\n",
       " 'retweet_count': 0,\n",
       " 'text': \"I'm at Disney's Hollywood Studios (Walt Disney World Resort, Lake Buena Vista) w/ 12 others http://4sq.com/rpIdUN\",\n",
       " 'entities': {'user_mentions': [],\n",
       "  'urls': [{'indices': [92, 113],\n",
       "    'url': 'http://4sq.com/rpIdUN',\n",
       "    'expanded_url': None}],\n",
       "  'hashtags': []},\n",
       " 'place': {'country_code': 'US',\n",
       "  'place_type': 'poi',\n",
       "  'country': 'United States',\n",
       "  'attributes': {'street_address': 'Walt Disney World Resort'},\n",
       "  'full_name': \"Disney's Hollywood Studios, Bay Lake\",\n",
       "  'name': \"Disney's Hollywood Studios\",\n",
       "  'url': 'http://api.twitter.com/1/geo/id/71677821d2473959.json',\n",
       "  'id': '71677821d2473959',\n",
       "  'bounding_box': {'type': 'Polygon',\n",
       "   'coordinates': [[[-81.56063, 28.356972],\n",
       "     [-81.56063, 28.356972],\n",
       "     [-81.56063, 28.356972],\n",
       "     [-81.56063, 28.356972]]]}},\n",
       " 'in_reply_to_user_id': None,\n",
       " 'coordinates': {'type': 'Point', 'coordinates': [-81.5595603, 28.35794551]},\n",
       " 'truncated': False,\n",
       " 'created_at': 'Tue Jul 19 16:15:01 +0000 2011',\n",
       " 'id_str': '93353157199020034',\n",
       " 'source': '<a href=\"http://foursquare.com\" rel=\"nofollow\">foursquare</a>',\n",
       " 'in_reply_to_status_id': None,\n",
       " 'favorited': False,\n",
       " 'in_reply_to_status_id_str': None,\n",
       " 'geo': {'type': 'Point', 'coordinates': [-81.5595603, 28.35794551]},\n",
       " 'user': {'profile_text_color': '333333',\n",
       "  'location': 'Ashland, Ohio',\n",
       "  'contributors_enabled': False,\n",
       "  'lang': 'en',\n",
       "  'profile_sidebar_fill_color': 'C0DFEC',\n",
       "  'is_translator': False,\n",
       "  'profile_background_tile': True,\n",
       "  'profile_background_image_url_https': 'https://si0.twimg.com/profile_background_images/143508444/haring_logo_blue_background.jpg',\n",
       "  'followers_count': 11,\n",
       "  'listed_count': 0,\n",
       "  'notifications': None,\n",
       "  'created_at': 'Mon Jul 06 07:08:20 +0000 2009',\n",
       "  'friends_count': 11,\n",
       "  'description': 'I am motivated for YOU!  Real Estate is my DREAM, and I am certain our Haring Realty Ohio team can ensure YOUR DREAMS!',\n",
       "  'id_str': '54143758',\n",
       "  'following': None,\n",
       "  'profile_link_color': '0084B4',\n",
       "  'profile_sidebar_border_color': 'a8c7f7',\n",
       "  'profile_image_url_https': 'https://si0.twimg.com/profile_images/299502994/Misty_head_only_normal.jpg',\n",
       "  'profile_image_url': 'http://a3.twimg.com/profile_images/299502994/Misty_head_only_normal.jpg',\n",
       "  'default_profile': False,\n",
       "  'time_zone': 'Eastern Time (US & Canada)',\n",
       "  'favourites_count': 0,\n",
       "  'default_profile_image': False,\n",
       "  'show_all_inline_media': False,\n",
       "  'geo_enabled': True,\n",
       "  'profile_use_background_image': True,\n",
       "  'protected': False,\n",
       "  'screen_name': 'MistyDMillerHR',\n",
       "  'profile_background_color': '022330',\n",
       "  'url': 'http://www.haringrealty.com',\n",
       "  'name': 'Misty D. Miller',\n",
       "  'verified': False,\n",
       "  'profile_background_image_url': 'http://a2.twimg.com/profile_background_images/143508444/haring_logo_blue_background.jpg',\n",
       "  'id': 54143758,\n",
       "  'follow_request_sent': None,\n",
       "  'statuses_count': 53,\n",
       "  'utc_offset': -18000},\n",
       " 'in_reply_to_screen_name': None,\n",
       " 'id': 93353157199020030,\n",
       " 'in_reply_to_user_id_str': None,\n",
       " 'fastText_lang': 'en',\n",
       " 'fastText_conf': 0.74,\n",
       " 'tweet_created_at': datetime.datetime(2011, 7, 19, 16, 15, 1),\n",
       " 'user_created_at': datetime.datetime(2009, 7, 6, 7, 8, 20),\n",
       " 'pure_text': \"I'm at Disney's Hollywood Studios (Walt Disney World Resort, Lake Buena Vista) w/ 12 others http://4sq.com/rpIdUN\"}"
      ]
     },
     "execution_count": 4,
     "metadata": {},
     "output_type": "execute_result"
    }
   ],
   "source": [
    "## connect remotely\n",
    "## create tunnel in unix with\n",
    "#ssh -N -f -L localhost:27016:localhost:27016 hydra_j\n",
    "\n",
    "c = MongoClient(host='127.0.0.1', port=27016)\n",
    "#c.test.caommand('buildinfo')\n",
    "db = c['tweets']\n",
    "#db.list_collection_names()\n",
    "geotweets = db['geotweets']\n",
    "geotweets.find_one()\n",
    "\n"
   ]
  },
  {
   "cell_type": "code",
   "execution_count": 14,
   "metadata": {
    "ExecuteTime": {
     "end_time": "2020-03-20T14:12:14.275406Z",
     "start_time": "2020-03-20T14:12:14.057397Z"
    }
   },
   "outputs": [
    {
     "data": {
      "text/plain": [
       "{'_id': ObjectId('5e44c6b32ebeb522166b0263'),\n",
       " 'created_at': 'Tue Mar 01 00:00:01 +0000 2016',\n",
       " 'id': 704456119482261500,\n",
       " 'id_str': '704456119482261505',\n",
       " 'text': 'Wind 0.0 mph WSW. Barometer 30.048 in, Rising slowly. Temperature 51.9 °F. Rain today 0.20 in. Humidity 47%',\n",
       " 'source': '<a href=\"http://sandaysoft.com/\" rel=\"nofollow\">Sandaysoft Cumulus</a>',\n",
       " 'truncated': False,\n",
       " 'in_reply_to_status_id': None,\n",
       " 'in_reply_to_status_id_str': None,\n",
       " 'in_reply_to_user_id': None,\n",
       " 'in_reply_to_user_id_str': None,\n",
       " 'in_reply_to_screen_name': None,\n",
       " 'user': {'id': 2327800314,\n",
       "  'id_str': '2327800314',\n",
       "  'name': 'LaGrange Weather',\n",
       "  'screen_name': 'LaGrangeWeather',\n",
       "  'location': 'LaGrange Kentucky USA',\n",
       "  'url': 'http://www.lagrangekyweather.com',\n",
       "  'description': 'Local weather conditions for LaGrange Kentucky.',\n",
       "  'protected': False,\n",
       "  'verified': False,\n",
       "  'followers_count': 58,\n",
       "  'friends_count': 27,\n",
       "  'listed_count': 3,\n",
       "  'favourites_count': 7,\n",
       "  'statuses_count': 18014,\n",
       "  'created_at': 'Tue Feb 04 22:01:42 +0000 2014',\n",
       "  'utc_offset': -18000,\n",
       "  'time_zone': 'Eastern Time (US & Canada)',\n",
       "  'geo_enabled': True,\n",
       "  'lang': 'en',\n",
       "  'contributors_enabled': False,\n",
       "  'is_translator': False,\n",
       "  'profile_background_color': 'C0DEED',\n",
       "  'profile_background_image_url': 'http://abs.twimg.com/images/themes/theme1/bg.png',\n",
       "  'profile_background_image_url_https': 'https://abs.twimg.com/images/themes/theme1/bg.png',\n",
       "  'profile_background_tile': False,\n",
       "  'profile_link_color': '0084B4',\n",
       "  'profile_sidebar_border_color': 'C0DEED',\n",
       "  'profile_sidebar_fill_color': 'DDEEF6',\n",
       "  'profile_text_color': '333333',\n",
       "  'profile_use_background_image': True,\n",
       "  'profile_image_url': 'http://pbs.twimg.com/profile_images/430825777303531520/rQCO7Nvk_normal.jpeg',\n",
       "  'profile_image_url_https': 'https://pbs.twimg.com/profile_images/430825777303531520/rQCO7Nvk_normal.jpeg',\n",
       "  'profile_banner_url': 'https://pbs.twimg.com/profile_banners/2327800314/1416242461',\n",
       "  'default_profile': True,\n",
       "  'default_profile_image': False,\n",
       "  'following': None,\n",
       "  'follow_request_sent': None,\n",
       "  'notifications': None},\n",
       " 'geo': {'type': 'Point', 'coordinates': [-85.37027778, 38.40805556]},\n",
       " 'coordinates': {'type': 'Point', 'coordinates': [-85.37027778, 38.40805556]},\n",
       " 'place': {'id': '00c6f40e474c26b4',\n",
       "  'url': 'https://api.twitter.com/1.1/geo/id/00c6f40e474c26b4.json',\n",
       "  'place_type': 'city',\n",
       "  'name': 'La Grange',\n",
       "  'full_name': 'La Grange, KY',\n",
       "  'country_code': 'US',\n",
       "  'country': 'United States',\n",
       "  'bounding_box': {'type': 'Polygon',\n",
       "   'coordinates': [[[-85.427193, 38.345135],\n",
       "     [-85.427193, 38.440913],\n",
       "     [-85.342705, 38.440913],\n",
       "     [-85.342705, 38.345135]]]},\n",
       "  'attributes': {}},\n",
       " 'contributors': None,\n",
       " 'is_quote_status': False,\n",
       " 'retweet_count': 0,\n",
       " 'favorite_count': 0,\n",
       " 'entities': {'hashtags': [], 'urls': [], 'user_mentions': [], 'symbols': []},\n",
       " 'favorited': False,\n",
       " 'retweeted': False,\n",
       " 'filter_level': 'low',\n",
       " 'lang': 'en',\n",
       " 'timestamp_ms': '1456790401703',\n",
       " 'fastText_lang': 'en',\n",
       " 'fastText_conf': 0.76,\n",
       " 'tweet_created_at': datetime.datetime(2016, 3, 1, 0, 0, 1),\n",
       " 'user_created_at': datetime.datetime(2014, 2, 4, 22, 1, 42),\n",
       " 'pure_text': 'Wind 0.0 mph WSW. Barometer 30.048 in, Rising slowly. Temperature 51.9 °F. Rain today 0.20 in. Humidity 47%'}"
      ]
     },
     "execution_count": 14,
     "metadata": {},
     "output_type": "execute_result"
    }
   ],
   "source": [
    "start = datetime(2016,3,1)\n",
    "end  = datetime(2016,3,2)\n",
    "geotweets.find_one({'tweet_created_at':{'$gte':start, '$lt':end}})"
   ]
  }
 ],
 "metadata": {
  "hide_code_all_hidden": false,
  "kernelspec": {
   "display_name": "Python 3",
   "language": "python",
   "name": "python3"
  },
  "language_info": {
   "codemirror_mode": {
    "name": "ipython",
    "version": 3
   },
   "file_extension": ".py",
   "mimetype": "text/x-python",
   "name": "python",
   "nbconvert_exporter": "python",
   "pygments_lexer": "ipython3",
   "version": "3.6.6"
  }
 },
 "nbformat": 4,
 "nbformat_minor": 4
}
