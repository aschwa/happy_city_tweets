{
 "cells": [
  {
   "cell_type": "code",
   "execution_count": 52,
   "metadata": {},
   "outputs": [],
   "source": [
    "import multiprocessing\n",
    "from multiprocessing import Pool\n",
    "... # you wrote a lot of code here ...\n",
    "from shapely.geometry import Point\n",
    "from geopandas.tools import sjoin\n",
    "from pyproj import Proj, transform\n",
    "import pandas as pd\n",
    "import geopandas as gpd"
   ]
  },
  {
   "cell_type": "code",
   "execution_count": 59,
   "metadata": {},
   "outputs": [],
   "source": [
    "tpl_crs = Proj({'proj': 'aea',\n",
    "                            'lat_1': 20,\n",
    "                    'lat_2': 60,\n",
    "                    'lat_0': 40,\n",
    "                    'lon_0': -96,\n",
    "                    'x_0': 0,\n",
    "                    'y_0': 0,\n",
    "                    'datum': 'NAD83',\n",
    "                    'units': 'm',\n",
    "                    'no_defs': True,\n",
    "                    'wktext': True})\n",
    "    \n",
    "def reproj_coords(coords):\n",
    "    tweet_crs = Proj({'proj': 'longlat', 'ellps': 'WGS84', 'datum': 'WGS84'})\n",
    "    tpl_crs = Proj({'proj': 'aea',\n",
    "                            'lat_1': 20,\n",
    "                    'lat_2': 60,\n",
    "                    'lat_0': 40,\n",
    "                    'lon_0': -96,\n",
    "                    'x_0': 0,\n",
    "                    'y_0': 0,\n",
    "                    'datum': 'NAD83',\n",
    "                    'units': 'm',\n",
    "                    'no_defs': True,\n",
    "                    'wktext': True})\n",
    "    lon = coords[0]\n",
    "    lat = coords[1]\n",
    "    lon, lat = transform(tweet_crs, tpl_crs, lon, lat)\n",
    "    return Point(lon, lat)"
   ]
  },
  {
   "cell_type": "code",
   "execution_count": 12,
   "metadata": {},
   "outputs": [
    {
     "name": "stdout",
     "output_type": "stream",
     "text": [
      "Read 525547 tweets from file\n"
     ]
    }
   ],
   "source": [
    "# Load tweets to dataframe\n",
    "tweet_file = \"../data/raw/tweets/OH_Cleveland_3916000.json\"\n",
    "tweet_df = pd.read_json(tweet_file)\n",
    "try:\n",
    "    tweet_df.drop(\"fastText_lang\", axis=1, inplace=True)\n",
    "except KeyError:\n",
    "    pass\n",
    "print(\"Read {} tweets from file\".format(len(tweet_df)))"
   ]
  },
  {
   "cell_type": "code",
   "execution_count": 45,
   "metadata": {},
   "outputs": [],
   "source": [
    "test_geo = [x['coordinates'] for x in tweet_df.geo.values]\n",
    "test_geo_rp = [reproj_coords(x) for x in test_geo]"
   ]
  },
  {
   "cell_type": "code",
   "execution_count": 47,
   "metadata": {},
   "outputs": [
    {
     "name": "stdout",
     "output_type": "stream",
     "text": [
      "CPU times: user 6.01 s, sys: 753 ms, total: 6.76 s\n",
      "Wall time: 1min 7s\n"
     ]
    }
   ],
   "source": [
    "%%time\n",
    "with Pool(None) as p:\n",
    "    tweet_reproj = p.map(reproj_coords, test_geo)"
   ]
  },
  {
   "cell_type": "code",
   "execution_count": 48,
   "metadata": {},
   "outputs": [
    {
     "name": "stdout",
     "output_type": "stream",
     "text": [
      "CPU times: user 59.6 s, sys: 31.1 s, total: 1min 30s\n",
      "Wall time: 1min 35s\n"
     ]
    }
   ],
   "source": [
    "# %%time\n",
    "tweet_geometry = [reproj_coords(xy) for xy in test_geo]\n",
    "#tweet_df = tweet_df.drop('geo', axis=1)\n",
    "\n"
   ]
  },
  {
   "cell_type": "code",
   "execution_count": 60,
   "metadata": {},
   "outputs": [
    {
     "data": {
      "text/html": [
       "<div>\n",
       "<style scoped>\n",
       "    .dataframe tbody tr th:only-of-type {\n",
       "        vertical-align: middle;\n",
       "    }\n",
       "\n",
       "    .dataframe tbody tr th {\n",
       "        vertical-align: top;\n",
       "    }\n",
       "\n",
       "    .dataframe thead th {\n",
       "        text-align: right;\n",
       "    }\n",
       "</style>\n",
       "<table border=\"1\" class=\"dataframe\">\n",
       "  <thead>\n",
       "    <tr style=\"text-align: right;\">\n",
       "      <th></th>\n",
       "      <th>id</th>\n",
       "      <th>pure_text</th>\n",
       "      <th>tweet_created_at</th>\n",
       "      <th>geometry</th>\n",
       "    </tr>\n",
       "  </thead>\n",
       "  <tbody>\n",
       "    <tr>\n",
       "      <th>0</th>\n",
       "      <td>587044015549349900</td>\n",
       "      <td>Go Tribe! - Drinking a Game Of Thrones - Valar...</td>\n",
       "      <td>2015-04-12 00:06:14</td>\n",
       "      <td>POINT (1119240.770515308 258978.4993788982)</td>\n",
       "    </tr>\n",
       "    <tr>\n",
       "      <th>1</th>\n",
       "      <td>587044124735471600</td>\n",
       "      <td>@hiselenuh @dontshootskrlx @mauricemorfaw ever...</td>\n",
       "      <td>2015-04-12 00:06:40</td>\n",
       "      <td>POINT (1121988.853604449 262577.5272637045)</td>\n",
       "    </tr>\n",
       "    <tr>\n",
       "      <th>2</th>\n",
       "      <td>587044703247409200</td>\n",
       "      <td>Outtake from an earlier shot in the library. #...</td>\n",
       "      <td>2015-04-12 00:08:58</td>\n",
       "      <td>POINT (1119080.94305365 261818.4123514606)</td>\n",
       "    </tr>\n",
       "    <tr>\n",
       "      <th>3</th>\n",
       "      <td>587046028601229300</td>\n",
       "      <td>Britches kill me getting pregnant and ain't go...</td>\n",
       "      <td>2015-04-12 00:14:14</td>\n",
       "      <td>POINT (1125305.19637322 266770.4447996031)</td>\n",
       "    </tr>\n",
       "    <tr>\n",
       "      <th>4</th>\n",
       "      <td>587046066501062700</td>\n",
       "      <td>I just want a significant other 😕</td>\n",
       "      <td>2015-04-12 00:14:23</td>\n",
       "      <td>POINT (1127078.498761543 257083.5891447938)</td>\n",
       "    </tr>\n",
       "  </tbody>\n",
       "</table>\n",
       "</div>"
      ],
      "text/plain": [
       "                   id                                          pure_text  \\\n",
       "0  587044015549349900  Go Tribe! - Drinking a Game Of Thrones - Valar...   \n",
       "1  587044124735471600  @hiselenuh @dontshootskrlx @mauricemorfaw ever...   \n",
       "2  587044703247409200  Outtake from an earlier shot in the library. #...   \n",
       "3  587046028601229300  Britches kill me getting pregnant and ain't go...   \n",
       "4  587046066501062700                  I just want a significant other 😕   \n",
       "\n",
       "     tweet_created_at                                     geometry  \n",
       "0 2015-04-12 00:06:14  POINT (1119240.770515308 258978.4993788982)  \n",
       "1 2015-04-12 00:06:40  POINT (1121988.853604449 262577.5272637045)  \n",
       "2 2015-04-12 00:08:58   POINT (1119080.94305365 261818.4123514606)  \n",
       "3 2015-04-12 00:14:14   POINT (1125305.19637322 266770.4447996031)  \n",
       "4 2015-04-12 00:14:23  POINT (1127078.498761543 257083.5891447938)  "
      ]
     },
     "execution_count": 60,
     "metadata": {},
     "output_type": "execute_result"
    }
   ],
   "source": [
    "# convert to geodataframe, with reprojeted geometry\n",
    "#tweet_gdf = gpd.GeoDataFrame(tweet_df, crs= gdf.crs, geometry= tweet_geometry)\n",
    "#print(\"Tweets reprojected {}\".format(gdf.crs))\n",
    "#tweet_gdf = gpd.GeoDataFrame(tweet_df, crs= tpl_crs, geometry= tweet_reproj)#\n",
    "#tweet_gdf.head()\n",
    "#print(\"Tweets reprojected {}\".format(gdf.crs))"
   ]
  }
 ],
 "metadata": {
  "kernelspec": {
   "display_name": "Python 3",
   "language": "python",
   "name": "python3"
  },
  "language_info": {
   "codemirror_mode": {
    "name": "ipython",
    "version": 3
   },
   "file_extension": ".py",
   "mimetype": "text/x-python",
   "name": "python",
   "nbconvert_exporter": "python",
   "pygments_lexer": "ipython3",
   "version": "3.6.6"
  }
 },
 "nbformat": 4,
 "nbformat_minor": 4
}
