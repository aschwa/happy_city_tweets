{
 "cells": [
  {
   "cell_type": "code",
   "execution_count": null,
   "metadata": {},
   "outputs": [],
   "source": [
    "tweet_dir= Path(\"../data/processed/park_user_tweets\")\n",
    "results_city_type = {}\n",
    "\n",
    "for city in tweet_dir.glob(\"*.json\"):\n",
    "    if city.stem not in results_city_type.keys():\n",
    "        with open(city, 'r') as f:\n",
    "            park_user_tweets = json.load(f)\n",
    "        print(\"City: {} w {}\".format(city, len(park_user_tweets)))\n",
    "        tweets_w_parks = get_time_control_text_park(park_user_tweets)\n",
    "        tweet_df = pd.DataFrame.from_dict(tweets_w_parks,dtype=str)\n",
    "        tweet_df = pd.merge(tweet_df,park_cols,how='left',on='park_id')\n",
    "        cats = list(set(tweet_df.size_cat.values))\n",
    "        results_type = {}\n",
    "        park_list = list(set(tweet_df.park_name))\n",
    "        park_stops  = get_park_stopwords(park_list)\n",
    "        stop_list = park_stops+stop_dict['all_cities']+ stop_dict[city.stem]\n",
    "        for cat in cats:\n",
    "            tweet_subset = tweet_df[tweet_df.size_cat ==cat]\n",
    "            park_text = list(tweet_subset.park_text.values)\n",
    "            control_text = list(tweet_subset.control_text.values)\n",
    "            results_type[cat] = bootstrap_sentiment(park_text, control_text, stop_list,sample=.8,runs=5)\n",
    "        results_city_type[city.stem] = results_type"
   ]
  }
 ],
 "metadata": {
  "kernelspec": {
   "display_name": "Python 3",
   "language": "python",
   "name": "python3"
  },
  "language_info": {
   "codemirror_mode": {
    "name": "ipython",
    "version": 3
   },
   "file_extension": ".py",
   "mimetype": "text/x-python",
   "name": "python",
   "nbconvert_exporter": "python",
   "pygments_lexer": "ipython3",
   "version": "3.6.6"
  }
 },
 "nbformat": 4,
 "nbformat_minor": 4
}
