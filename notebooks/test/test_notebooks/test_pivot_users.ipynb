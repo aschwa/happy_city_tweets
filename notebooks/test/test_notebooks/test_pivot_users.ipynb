{
 "cells": [
  {
   "cell_type": "code",
   "execution_count": 1,
   "metadata": {
    "ExecuteTime": {
     "end_time": "2020-03-03T21:16:17.530664Z",
     "start_time": "2020-03-03T21:16:17.491992Z"
    }
   },
   "outputs": [],
   "source": [
    "%load_ext autoreload\n",
    "%autoreload 2\n",
    "%reload_ext autoreload\n",
    "\n",
    "import json\n",
    "import os\n",
    "import pandas as pd\n",
    "from datetime import datetime\n",
    "from dotenv import load_dotenv, find_dotenv\n",
    "from pathlib import Path\n",
    "from src.func import tweet_utils\n",
    "from src.func import regex\n",
    "from src.func import labmtgen\n",
    "from src.sentiment.senti_utils import *\n",
    "from src.sentiment.process_tweets import *\n",
    "from labMTsimple.storyLab import *\n",
    "import random\n",
    "import numpy as np\n",
    "from collections import Counter\n",
    "from collections import defaultdict\n",
    "import seaborn as sns\n",
    "%matplotlib inline"
   ]
  },
  {
   "cell_type": "code",
   "execution_count": 111,
   "metadata": {},
   "outputs": [],
   "source": [
    "hashtag_file = Path(\"../src/sentiment/hashtags.json\")\n",
    "with open(hashtag_file, 'r') as fp:\n",
    "    hashtags  = json.load(fp)\n",
    "    \n",
    "city = Path(\"../data/processed/tweets/MA_Boston_2507000.json\")\n",
    "tweets = load_tweets(city) # loads all tweets, removing duplicates\n",
    "park_user_tweets = user_control_split(tweets, hashtags)"
   ]
  },
  {
   "cell_type": "code",
   "execution_count": 113,
   "metadata": {},
   "outputs": [
    {
     "data": {
      "text/html": [
       "<div>\n",
       "<style scoped>\n",
       "    .dataframe tbody tr th:only-of-type {\n",
       "        vertical-align: middle;\n",
       "    }\n",
       "\n",
       "    .dataframe tbody tr th {\n",
       "        vertical-align: top;\n",
       "    }\n",
       "\n",
       "    .dataframe thead th {\n",
       "        text-align: right;\n",
       "    }\n",
       "</style>\n",
       "<table border=\"1\" class=\"dataframe\">\n",
       "  <thead>\n",
       "    <tr style=\"text-align: right;\">\n",
       "      <th></th>\n",
       "      <th>city_tweets</th>\n",
       "      <th>park_tweets</th>\n",
       "      <th>other_tweets</th>\n",
       "      <th>park_count</th>\n",
       "    </tr>\n",
       "  </thead>\n",
       "  <tbody>\n",
       "    <tr>\n",
       "      <th>54988729</th>\n",
       "      <td>16189</td>\n",
       "      <td>1168</td>\n",
       "      <td>15021</td>\n",
       "      <td>267</td>\n",
       "    </tr>\n",
       "    <tr>\n",
       "      <th>3413390356</th>\n",
       "      <td>991</td>\n",
       "      <td>68</td>\n",
       "      <td>923</td>\n",
       "      <td>46</td>\n",
       "    </tr>\n",
       "    <tr>\n",
       "      <th>356162725</th>\n",
       "      <td>2580</td>\n",
       "      <td>266</td>\n",
       "      <td>2314</td>\n",
       "      <td>22</td>\n",
       "    </tr>\n",
       "    <tr>\n",
       "      <th>484359989</th>\n",
       "      <td>757</td>\n",
       "      <td>44</td>\n",
       "      <td>713</td>\n",
       "      <td>19</td>\n",
       "    </tr>\n",
       "    <tr>\n",
       "      <th>149980649</th>\n",
       "      <td>2119</td>\n",
       "      <td>107</td>\n",
       "      <td>2012</td>\n",
       "      <td>19</td>\n",
       "    </tr>\n",
       "  </tbody>\n",
       "</table>\n",
       "</div>"
      ],
      "text/plain": [
       "            city_tweets  park_tweets  other_tweets  park_count\n",
       "54988729          16189         1168         15021         267\n",
       "3413390356          991           68           923          46\n",
       "356162725          2580          266          2314          22\n",
       "484359989           757           44           713          19\n",
       "149980649          2119          107          2012          19"
      ]
     },
     "execution_count": 113,
     "metadata": {},
     "output_type": "execute_result"
    }
   ],
   "source": [
    "park_users = list(park_user_tweets.keys())\n",
    "user_counts = {}\n",
    "for user, tweet_list in park_user_tweets.items():\n",
    "    total_tweets = len(tweet_list)\n",
    "    user_parks = [tweet['Park_Name'] for tweet in tweet_list if not pd.isnull(tweet['Park_Name'])]\n",
    "    park_visits = len(user_parks)\n",
    "    nonpark_tweets = total_tweets - park_visits\n",
    "    unique_parks = len(set(user_parks))\n",
    "    user_counts[user] = {\"city_tweets\":total_tweets, \"park_tweets\":park_visits, \"other_tweets\":nonpark_tweets, \"park_count\":unique_parks}\n",
    "    \n",
    "user_df = pd.DataFrame.from_dict(user_counts, orient='index').sort_values(by=['park_tweets'],ascending=False)\n",
    "user_df.sort_values(by=['park_count'],ascending=False).head(5)"
   ]
  },
  {
   "cell_type": "code",
   "execution_count": 123,
   "metadata": {},
   "outputs": [
    {
     "data": {
      "text/html": [
       "<div>\n",
       "<style scoped>\n",
       "    .dataframe tbody tr th:only-of-type {\n",
       "        vertical-align: middle;\n",
       "    }\n",
       "\n",
       "    .dataframe tbody tr th {\n",
       "        vertical-align: top;\n",
       "    }\n",
       "\n",
       "    .dataframe thead th {\n",
       "        text-align: right;\n",
       "    }\n",
       "</style>\n",
       "<table border=\"1\" class=\"dataframe\">\n",
       "  <thead>\n",
       "    <tr style=\"text-align: right;\">\n",
       "      <th></th>\n",
       "      <th>city_tweets</th>\n",
       "      <th>park_tweets</th>\n",
       "      <th>other_tweets</th>\n",
       "      <th>park_count</th>\n",
       "    </tr>\n",
       "  </thead>\n",
       "  <tbody>\n",
       "    <tr>\n",
       "      <th>163610014</th>\n",
       "      <td>6</td>\n",
       "      <td>6</td>\n",
       "      <td>0</td>\n",
       "      <td>4</td>\n",
       "    </tr>\n",
       "    <tr>\n",
       "      <th>119460394</th>\n",
       "      <td>4</td>\n",
       "      <td>4</td>\n",
       "      <td>0</td>\n",
       "      <td>4</td>\n",
       "    </tr>\n",
       "    <tr>\n",
       "      <th>60439796</th>\n",
       "      <td>3</td>\n",
       "      <td>3</td>\n",
       "      <td>0</td>\n",
       "      <td>3</td>\n",
       "    </tr>\n",
       "    <tr>\n",
       "      <th>296542687</th>\n",
       "      <td>3</td>\n",
       "      <td>3</td>\n",
       "      <td>0</td>\n",
       "      <td>3</td>\n",
       "    </tr>\n",
       "    <tr>\n",
       "      <th>567262121</th>\n",
       "      <td>3</td>\n",
       "      <td>3</td>\n",
       "      <td>0</td>\n",
       "      <td>3</td>\n",
       "    </tr>\n",
       "  </tbody>\n",
       "</table>\n",
       "</div>"
      ],
      "text/plain": [
       "           city_tweets  park_tweets  other_tweets  park_count\n",
       "163610014            6            6             0           4\n",
       "119460394            4            4             0           4\n",
       "60439796             3            3             0           3\n",
       "296542687            3            3             0           3\n",
       "567262121            3            3             0           3"
      ]
     },
     "execution_count": 123,
     "metadata": {},
     "output_type": "execute_result"
    }
   ],
   "source": [
    "user_df[user_df.other_tweets==0].sort_values(by='park_count', ascending=False).head()"
   ]
  },
  {
   "cell_type": "code",
   "execution_count": 121,
   "metadata": {},
   "outputs": [
    {
     "name": "stdout",
     "output_type": "stream",
     "text": [
      "Boston Common Everyone within a 5 foot radius is really enjoying my Walter White cough. #byelung Athens, OH\n",
      "Riverway I Any #FuelTheFuture attendees looking for personal branding know-how: please join the #ScrippsPRCW chat w @Matt_Prince 2/25 8-9pm! Athens, OH\n"
     ]
    }
   ],
   "source": [
    "t_user = '169587763'\n",
    "t_tweets = []\n",
    "for tweet in tweets:\n",
    "    if tweet['user']['id_str'] == t_user:\n",
    "        t_tweets.append(tweet)\n",
    "for tweet in t_tweets:\n",
    "    if not pd.isnull(tweet['ParkID']):\n",
    "        print(tweet['Park_Name'],tweet['pure_text'], tweet['user']['location'])"
   ]
  }
 ],
 "metadata": {
  "kernelspec": {
   "display_name": "Python 3",
   "language": "python",
   "name": "python3"
  },
  "language_info": {
   "codemirror_mode": {
    "name": "ipython",
    "version": 3
   },
   "file_extension": ".py",
   "mimetype": "text/x-python",
   "name": "python",
   "nbconvert_exporter": "python",
   "pygments_lexer": "ipython3",
   "version": "3.6.6"
  }
 },
 "nbformat": 4,
 "nbformat_minor": 4
}
