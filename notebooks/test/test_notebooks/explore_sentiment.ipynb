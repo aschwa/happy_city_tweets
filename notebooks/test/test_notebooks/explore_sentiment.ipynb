{
 "cells": [
  {
   "cell_type": "code",
   "execution_count": 7,
   "metadata": {
    "ExecuteTime": {
     "end_time": "2020-03-03T21:16:17.530664Z",
     "start_time": "2020-03-03T21:16:17.491992Z"
    }
   },
   "outputs": [],
   "source": [
    "%load_ext autoreload\n",
    "%autoreload 2"
   ]
  },
  {
   "cell_type": "code",
   "execution_count": 7,
   "metadata": {
    "ExecuteTime": {
     "end_time": "2020-03-04T12:48:15.684959Z",
     "start_time": "2020-03-04T12:48:15.641891Z"
    }
   },
   "outputs": [],
   "source": [
    "import json\n",
    "import os\n",
    "import pandas as pd\n",
    "from datetime import datetime\n",
    "from dotenv import load_dotenv, find_dotenv\n",
    "from pathlib import Path\n",
    "from src.func import tweet_utils\n",
    "from src.func import regex\n",
    "from src.func import labmtgen \n",
    "from src.sentiment.senti_utils import *\n",
    "from src.sentiment.process_tweets import *\n",
    "from labMTsimple.storyLab import *\n",
    "import random\n",
    "import numpy as np\n",
    "from collections import Counter\n",
    "import matplotlib.pyplot as plt"
   ]
  },
  {
   "cell_type": "code",
   "execution_count": 15,
   "metadata": {},
   "outputs": [
    {
     "name": "stdout",
     "output_type": "stream",
     "text": [
      "Loaded 1090463 tweets\n",
      "Returned 1089010 unique tweets\n"
     ]
    }
   ],
   "source": [
    "city = Path(\"../data/processed/tweets/DC_Washington_1150000.json\")\n",
    "tweets = load_tweets(city)\n",
    "park_tweets, control_tweets, park_names = park_control_split(tweets)"
   ]
  },
  {
   "cell_type": "code",
   "execution_count": null,
   "metadata": {},
   "outputs": [],
   "source": [
    "## standard sentiment\n",
    "p_ngrams, c_ngrams, stops = geotweets_to_ngrams(city)\n",
    "print(\"Park Ngrams, Ctl Ngrams\", sum(p_ngrams.values()), sum(c_ngrams.values()))\n",
    "print(city.stem, \": Park: {:05.3f} | Control {:05.3f}\".format(senti(p_ngrams, stops), senti(c_ngrams,stops)))"
   ]
  },
  {
   "cell_type": "code",
   "execution_count": null,
   "metadata": {},
   "outputs": [],
   "source": [
    "## labmt sentiment estimate, for shifting \n",
    "PVec, CVec,pStops = getVecs(city)\n",
    "PVec, Pval = labmtSimpleSentiment(PVec,pStops)\n",
    "CVec, Cval = labmtSimpleSentiment(CVec,pStops)\n",
    "print(city.stem, \": Park: {:05.3f} | Control {:05.3f}\".format(Pval, Cval))\n",
    "labMT,labMTvector,labMTwordList = emotionFileReader(stopval=1.0,lang='english',returnVector=True)\n",
    "#shiftHtml(labMTvector,labMTwordList, CVec, PVec, \"shifts/\" + str(city.stem)+\".html\")"
   ]
  },
  {
   "cell_type": "code",
   "execution_count": 35,
   "metadata": {},
   "outputs": [],
   "source": [
    "city = Path(\"../data/processed/tweets/FL_Jacksonville_1235000.json\")\n",
    "tweets = load_tweets(city)\n",
    "park_tweets, control_tweets, park_names = park_control_split(tweets)\n",
    "stops  = get_park_stopwords(park_names)"
   ]
  },
  {
   "cell_type": "code",
   "execution_count": 36,
   "metadata": {},
   "outputs": [
    {
     "name": "stdout",
     "output_type": "stream",
     "text": [
      "7234\n"
     ]
    }
   ],
   "source": [
    "print(len(park_tweets))"
   ]
  },
  {
   "cell_type": "code",
   "execution_count": 37,
   "metadata": {},
   "outputs": [
    {
     "name": "stdout",
     "output_type": "stream",
     "text": [
      "10% sampled: Mean Park: 0.0935 with range 0.1228\n",
      "20% sampled: Mean Park: 0.0752 with range 0.1350\n",
      "30% sampled: Mean Park: 0.0903 with range 0.0745\n",
      "40% sampled: Mean Park: 0.0847 with range 0.0674\n",
      "50% sampled: Mean Park: 0.0866 with range 0.0729\n",
      "60% sampled: Mean Park: 0.0788 with range 0.0554\n",
      "70% sampled: Mean Park: 0.0786 with range 0.0369\n",
      "80% sampled: Mean Park: 0.0807 with range 0.0249\n",
      "90% sampled: Mean Park: 0.0805 with range 0.0189\n"
     ]
    }
   ],
   "source": [
    "# Now we bootstrap a vector of 100 seniments, by choosing 80% of the tweets in each group\n",
    "# Test bootstrap \n",
    "for n in np.arange(.1,1,.1):\n",
    "    bumps = bootstrap_sentiment(park_tweets, control_tweets, stops,sample=n,runs=10)\n",
    "    print(\"{:.0f}% sampled: Mean Park: {:.4f} with range {:.4f}\".format(n*100, np.mean(bumps), max(bumps)-min(bumps)))\n",
    "\n",
    "#print(min(park_sentis), np.mean(park_sentis), max(park_sentis))\n",
    "#print(min(control_sentis), np.mean(control_sentis), max(control_sentis))"
   ]
  },
  {
   "cell_type": "code",
   "execution_count": null,
   "metadata": {},
   "outputs": [],
   "source": [
    "# Now we bootstrap a vector of 100 seniments, by choosing 80% of ngrams in each group\n",
    "tweets = load_tweets(city)\n",
    "park_tweets, control_tweets, park_names = park_control_split(tweets)\n",
    "stops  = get_park_stopwords(park_names)\n",
    "park_sentis, control_sentis = bootstrap_sentiment_ngrams(park_tweets, control_tweets, stops,10)\n",
    "\n",
    "print(min(park_sentis), np.mean(park_sentis), max(park_sentis))\n",
    "print(min(control_sentis), np.mean(control_sentis), max(control_sentis))"
   ]
  },
  {
   "cell_type": "markdown",
   "metadata": {},
   "source": [
    "Loops through all processed tweets and bootstrap results"
   ]
  },
  {
   "cell_type": "code",
   "execution_count": null,
   "metadata": {},
   "outputs": [],
   "source": [
    "tweet_dir = Path(\"../data/processed/tweets/\")\n",
    "results = {}\n",
    "for city in tweet_dir.iterdir():\n",
    "    tweets = load_tweets(city)\n",
    "    park_tweets, control_tweets, park_names = park_control_split(tweets)\n",
    "    stops  = get_park_stopwords(park_names)\n",
    "    park_sentis, control_sentis = bootstrap_sentiment(park_tweets, control_tweets, stops,20)\n",
    "    results[city.stem[:-8]] = {\"park_sentiment\":park_sentis, \"control_sentiment\":control_sentis}\n",
    "    \n"
   ]
  },
  {
   "cell_type": "code",
   "execution_count": null,
   "metadata": {},
   "outputs": [],
   "source": [
    "# save results dictionary to file\n",
    "with open(\"results/city_bootstrap.json\", 'w') as f:\n",
    "    json.dump(results, f)    "
   ]
  }
 ],
 "metadata": {
  "kernelspec": {
   "display_name": "Python 3",
   "language": "python",
   "name": "python3"
  },
  "language_info": {
   "codemirror_mode": {
    "name": "ipython",
    "version": 3
   },
   "file_extension": ".py",
   "mimetype": "text/x-python",
   "name": "python",
   "nbconvert_exporter": "python",
   "pygments_lexer": "ipython3",
   "version": "3.6.6"
  }
 },
 "nbformat": 4,
 "nbformat_minor": 4
}
