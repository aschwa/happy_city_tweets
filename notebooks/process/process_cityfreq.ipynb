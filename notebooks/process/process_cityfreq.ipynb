{
 "cells": [
  {
   "cell_type": "code",
   "execution_count": 1,
   "metadata": {
    "ExecuteTime": {
     "end_time": "2020-03-03T21:16:17.530664Z",
     "start_time": "2020-03-03T21:16:17.491992Z"
    }
   },
   "outputs": [],
   "source": [
    "%load_ext autoreload\n",
    "%autoreload 2"
   ]
  },
  {
   "cell_type": "code",
   "execution_count": 2,
   "metadata": {
    "ExecuteTime": {
     "end_time": "2020-03-04T12:48:15.684959Z",
     "start_time": "2020-03-04T12:48:15.641891Z"
    }
   },
   "outputs": [],
   "source": [
    "import json\n",
    "import os\n",
    "import pandas as pd\n",
    "from datetime import datetime\n",
    "from dotenv import load_dotenv, find_dotenv\n",
    "from pathlib import Path\n",
    "from src.func import tweet_utils\n",
    "from src.func import regex\n",
    "from src.func import labmtgen\n",
    "from src.sentiment.senti_utils import *\n",
    "from labMTsimple.storyLab import *\n",
    "import random\n",
    "import numpy as np\n",
    "from collections import Counter\n",
    "import matplotlib.pyplot as plt\n",
    "import seaborn as sns; sns.set()\n",
    "from shapely.geometry import Point, Polygon, MultiPolygon"
   ]
  },
  {
   "cell_type": "code",
   "execution_count": 10,
   "metadata": {},
   "outputs": [],
   "source": [
    "tweet_dir= Path(\"../data/processed/park_user_tweets/\")\n",
    "#city = Path(\"../data/processed/tweets/CO_Denver_0820000.json\")"
   ]
  },
  {
   "cell_type": "code",
   "execution_count": 11,
   "metadata": {},
   "outputs": [
    {
     "name": "stdout",
     "output_type": "stream",
     "text": [
      "CO_Denver_0820000\n",
      "AZ_Phoenix_0455000\n",
      "FL_Jacksonville_1235000\n",
      "TX_Austin_4805000\n",
      "TX_Fort_Worth_4827000\n",
      "TX_El_Paso_4824000\n",
      "CA_San_Diego_0666000\n",
      "TN_Memphis_4748000\n",
      "DC_Washington_1150000\n",
      "WA_Seattle_5363000\n",
      "IL_Chicago_1714000\n",
      "TX_Houston_4835000\n",
      "MA_Boston_2507000\n",
      "MI_Detroit_2622000\n",
      "NC_Charlotte_3712000\n",
      "NY_New_York_3651000\n",
      "IN_Indianapolis_1836003\n",
      "TX_San_Antonio_4865000\n",
      "TX_Dallas_4819000\n",
      "OH_Columbus_3918000\n",
      "PA_Philadelphia_4260000\n",
      "CA_Los_Angeles_0644000\n",
      "MD_Baltimore_2404000\n",
      "CA_San_Jose_0668000\n",
      "CA_San_Francisco_0667000\n"
     ]
    }
   ],
   "source": [
    "for city in tweet_dir.glob(\"*.json\"):\n",
    "    city_name = city.stem\n",
    "    print(city_name)"
   ]
  },
  {
   "cell_type": "code",
   "execution_count": 12,
   "metadata": {},
   "outputs": [],
   "source": [
    "city = tweet_dir / \"PA_Philadelphia_4260000.json\"\n",
    "with open(city, 'r') as f:\n",
    "    tweets = json.load(f)"
   ]
  },
  {
   "cell_type": "code",
   "execution_count": 15,
   "metadata": {},
   "outputs": [
    {
     "data": {
      "text/plain": [
       "[{'ParkID': '42600000373',\n",
       "  'Park_Name': 'West Fairmount Park',\n",
       "  'control_text': '@brrrixO so uncalled for you bitch',\n",
       "  'id': 454233661001715700,\n",
       "  'id_str': 454233661001715712,\n",
       "  'index_right': 16254.0,\n",
       "  'pure_text': 'Me vs. Traffic. Every morning.',\n",
       "  'tweet_created_at': '2014-04-10 12:25:18',\n",
       "  'user': {'id': 1000608614,\n",
       "   'id_str': '1000608614',\n",
       "   'location': 'Philadelphia/Avalon'}},\n",
       " {'ParkID': nan,\n",
       "  'Park_Name': nan,\n",
       "  'id': 454335775728218100,\n",
       "  'id_str': 454335775728218112,\n",
       "  'index_right': nan,\n",
       "  'pure_text': 'Perfect weather to take in a Phillies game and laugh at all the girls in shorts that are freezing by the top of the 2nd.',\n",
       "  'tweet_created_at': '2014-04-10 19:11:04',\n",
       "  'user': {'id': 1000608614,\n",
       "   'id_str': '1000608614',\n",
       "   'location': 'Philadelphia/Avalon'}},\n",
       " {'ParkID': nan,\n",
       "  'Park_Name': nan,\n",
       "  'id': 451177460349288450,\n",
       "  'id_str': 451177460349288448,\n",
       "  'index_right': nan,\n",
       "  'pure_text': 'Update: we compromised and only ran 2 miles. #blessed',\n",
       "  'tweet_created_at': '2014-04-02 02:01:03',\n",
       "  'user': {'id': 1000608614,\n",
       "   'id_str': '1000608614',\n",
       "   'location': 'Philadelphia/Avalon'}},\n",
       " {'ParkID': nan,\n",
       "  'Park_Name': nan,\n",
       "  'id': 453729484626481150,\n",
       "  'id_str': 453729484626481152,\n",
       "  'index_right': nan,\n",
       "  'pure_text': 'SHELL NECKLACES FTW',\n",
       "  'tweet_created_at': '2014-04-09 03:01:53',\n",
       "  'user': {'id': 1000608614,\n",
       "   'id_str': '1000608614',\n",
       "   'location': 'Philadelphia/Avalon'}},\n",
       " {'ParkID': nan,\n",
       "  'Park_Name': nan,\n",
       "  'id': 453941586553225200,\n",
       "  'id_str': 453941586553225216,\n",
       "  'index_right': nan,\n",
       "  'pure_text': '@dhm I personally prefer the \"That\\'s so gay.\" posters on all of the poles in the gayborhood',\n",
       "  'tweet_created_at': '2014-04-09 17:04:42',\n",
       "  'user': {'id': 1000608614,\n",
       "   'id_str': '1000608614',\n",
       "   'location': 'Philadelphia/Avalon'}},\n",
       " {'ParkID': nan,\n",
       "  'Park_Name': nan,\n",
       "  'id': 454777465358254100,\n",
       "  'id_str': 454777465358254080,\n",
       "  'index_right': nan,\n",
       "  'pure_text': 'Along those lines, why would you go out for the night with absolutely no cash on you',\n",
       "  'tweet_created_at': '2014-04-12 00:26:11',\n",
       "  'user': {'id': 1000608614,\n",
       "   'id_str': '1000608614',\n",
       "   'location': 'Philadelphia/Avalon'}}]"
      ]
     },
     "execution_count": 15,
     "metadata": {},
     "output_type": "execute_result"
    }
   ],
   "source": [
    "tweets[list(tweets.keys())[5]]"
   ]
  },
  {
   "cell_type": "code",
   "execution_count": 99,
   "metadata": {},
   "outputs": [],
   "source": [
    "date_list = []\n",
    "date_geo = []"
   ]
  },
  {
   "cell_type": "code",
   "execution_count": 60,
   "metadata": {},
   "outputs": [],
   "source": [
    "for tweet in tweets:\n",
    "    ts = tweet['tweet_created_at']\n",
    "    date_list.append(datetime.strptime(ts, '%Y-%m-%d %H:%M:%S').date())"
   ]
  },
  {
   "cell_type": "code",
   "execution_count": 100,
   "metadata": {},
   "outputs": [],
   "source": [
    "with open(city, 'r') as f:\n",
    "    tweets = json.load(f)\n",
    "    ../data/processed/park_user_tweets/IL_Chicago_1714000.json\n",
    "    for tweet in tweets:\n",
    "    ts = tweet['tweet_created_at']\n",
    "    date_str = datetime.strptime(ts, '%Y-%m-%d %H:%M:%S').strftime('%Y-%m-%d')\n",
    "    p = Point(tweet['geo']['coordinates'][1],tweet['geo']['coordinates'][0])\n",
    "    date_geo.append([date_str,p])\n"
   ]
  },
  {
   "cell_type": "code",
   "execution_count": null,
   "metadata": {},
   "outputs": [],
   "source": []
  },
  {
   "cell_type": "code",
   "execution_count": 101,
   "metadata": {},
   "outputs": [
    {
     "data": {
      "text/plain": [
       "['2015-04-12', <shapely.geometry.point.Point at 0x136b2f8d0>]"
      ]
     },
     "execution_count": 101,
     "metadata": {},
     "output_type": "execute_result"
    }
   ],
   "source": [
    "date_geo[0]"
   ]
  },
  {
   "cell_type": "code",
   "execution_count": 61,
   "metadata": {},
   "outputs": [],
   "source": [
    "c = Counter(date_list)\n",
    "c_dict = dict(c)"
   ]
  },
  {
   "cell_type": "code",
   "execution_count": 86,
   "metadata": {},
   "outputs": [
    {
     "data": {
      "image/png": "[encoded data removed]",
      "text/plain": [
       "<Figure size 720x288 with 1 Axes>"
      ]
     },
     "metadata": {},
     "output_type": "display_data"
    }
   ],
   "source": [
    "f, ax = plt.subplots(figsize=(10,4))\n",
    "date_count = sorted(c_dict.items())\n",
    "g = sns.lineplot(*zip(*date_count))\n",
    "\n",
    "\n",
    "plt.savefig('phil_timefreq.png')"
   ]
  },
  {
   "cell_type": "code",
   "execution_count": 64,
   "metadata": {},
   "outputs": [
    {
     "data": {
      "text/plain": [
       "<function Counter.items>"
      ]
     },
     "execution_count": 64,
     "metadata": {},
     "output_type": "execute_result"
    }
   ],
   "source": [
    "c.items"
   ]
  },
  {
   "cell_type": "code",
   "execution_count": 84,
   "metadata": {},
   "outputs": [
    {
     "name": "stdout",
     "output_type": "stream",
     "text": [
      "2015-04-01 1498\n",
      "2015-04-02 1354\n",
      "2015-04-03 1463\n",
      "2015-04-04 1504\n",
      "2015-04-05 1306\n",
      "2015-04-06 1340\n",
      "2015-04-07 1350\n",
      "2015-04-08 1399\n",
      "2015-04-09 1367\n",
      "2015-04-10 1319\n",
      "2015-04-11 1332\n",
      "2015-04-12 1407\n",
      "2015-04-13 1303\n",
      "2015-04-14 1321\n",
      "2015-04-15 1319\n",
      "2015-04-16 1315\n",
      "2015-04-17 1384\n",
      "2015-04-18 1341\n",
      "2015-04-19 1434\n",
      "2015-04-20 1370\n",
      "2015-04-21 1349\n",
      "2015-04-22 1490\n",
      "2015-04-23 1503\n",
      "2015-04-24 1421\n",
      "2015-04-25 1430\n",
      "2015-04-26 1465\n",
      "2015-04-27 1347\n",
      "2015-04-28 422\n",
      "2015-04-29 381\n",
      "2015-04-30 408\n",
      "2015-05-01 434\n",
      "2015-05-02 406\n",
      "2015-05-03 446\n",
      "2015-05-04 353\n",
      "2015-05-05 357\n",
      "2015-05-06 389\n",
      "2015-05-07 399\n",
      "2015-05-08 403\n",
      "2015-05-09 391\n",
      "2015-05-10 403\n",
      "2015-05-11 289\n",
      "2015-05-12 336\n",
      "2015-05-13 345\n",
      "2015-05-14 302\n",
      "2015-05-15 310\n",
      "2015-05-16 358\n",
      "2015-05-17 349\n",
      "2015-05-18 344\n",
      "2015-05-19 298\n",
      "2015-05-20 254\n",
      "2015-05-21 302\n",
      "2015-05-22 271\n",
      "2015-05-23 277\n",
      "2015-05-24 241\n",
      "2015-05-25 272\n",
      "2015-05-26 258\n",
      "2015-05-27 320\n",
      "2015-05-28 327\n",
      "2015-05-29 350\n",
      "2015-05-30 347\n",
      "2015-05-31 330\n",
      "2015-06-01 278\n"
     ]
    }
   ],
   "source": [
    "ra = pd.date_range(datetime(2015,4,1).date(), datetime(2015,6,1).date(), freq='D')\n",
    "for day in ra:\n",
    "    print(day.date(), c[day.date()])"
   ]
  },
  {
   "cell_type": "code",
   "execution_count": 104,
   "metadata": {},
   "outputs": [],
   "source": [
    "import geopandas as gpd"
   ]
  },
  {
   "cell_type": "code",
   "execution_count": 123,
   "metadata": {},
   "outputs": [],
   "source": [
    "for tweet in tweets:\n",
    "    ts = tweet['tweet_created_at']\n",
    "    date_str = datetime.strptime(ts, '%Y-%m-%d %H:%M:%S').strftime('%Y-%m-%d')\n",
    "    p = Point(tweet['geo']['coordinates'][0],tweet['geo']['coordinates'][1])\n",
    "    date_geo.append([date_str,p])"
   ]
  },
  {
   "cell_type": "code",
   "execution_count": 124,
   "metadata": {},
   "outputs": [],
   "source": [
    "df = pd.DataFrame(date_geo, columns=['date','location'])"
   ]
  },
  {
   "cell_type": "code",
   "execution_count": 125,
   "metadata": {},
   "outputs": [],
   "source": [
    "gdf =  gpd.GeoDataFrame(df, geometry='location')"
   ]
  },
  {
   "cell_type": "code",
   "execution_count": 126,
   "metadata": {},
   "outputs": [
    {
     "data": {
      "text/html": [
       "<div>\n",
       "<style scoped>\n",
       "    .dataframe tbody tr th:only-of-type {\n",
       "        vertical-align: middle;\n",
       "    }\n",
       "\n",
       "    .dataframe tbody tr th {\n",
       "        vertical-align: top;\n",
       "    }\n",
       "\n",
       "    .dataframe thead th {\n",
       "        text-align: right;\n",
       "    }\n",
       "</style>\n",
       "<table border=\"1\" class=\"dataframe\">\n",
       "  <thead>\n",
       "    <tr style=\"text-align: right;\">\n",
       "      <th></th>\n",
       "      <th>date</th>\n",
       "      <th>location</th>\n",
       "    </tr>\n",
       "  </thead>\n",
       "  <tbody>\n",
       "    <tr>\n",
       "      <th>0</th>\n",
       "      <td>2015-04-12</td>\n",
       "      <td>POINT (40.028183 -75.05737000000001)</td>\n",
       "    </tr>\n",
       "    <tr>\n",
       "      <th>1</th>\n",
       "      <td>2015-04-12</td>\n",
       "      <td>POINT (40.029062 -75.058246)</td>\n",
       "    </tr>\n",
       "    <tr>\n",
       "      <th>2</th>\n",
       "      <td>2015-04-12</td>\n",
       "      <td>POINT (39.987854 -75.184445)</td>\n",
       "    </tr>\n",
       "    <tr>\n",
       "      <th>3</th>\n",
       "      <td>2015-04-12</td>\n",
       "      <td>POINT (40.014393 -75.069661)</td>\n",
       "    </tr>\n",
       "    <tr>\n",
       "      <th>4</th>\n",
       "      <td>2015-04-12</td>\n",
       "      <td>POINT (39.987826 -75.184342)</td>\n",
       "    </tr>\n",
       "  </tbody>\n",
       "</table>\n",
       "</div>"
      ],
      "text/plain": [
       "         date                              location\n",
       "0  2015-04-12  POINT (40.028183 -75.05737000000001)\n",
       "1  2015-04-12          POINT (40.029062 -75.058246)\n",
       "2  2015-04-12          POINT (39.987854 -75.184445)\n",
       "3  2015-04-12          POINT (40.014393 -75.069661)\n",
       "4  2015-04-12          POINT (39.987826 -75.184342)"
      ]
     },
     "execution_count": 126,
     "metadata": {},
     "output_type": "execute_result"
    }
   ],
   "source": [
    "gdf.head()"
   ]
  },
  {
   "cell_type": "code",
   "execution_count": 127,
   "metadata": {},
   "outputs": [
    {
     "data": {
      "text/plain": [
       "4053782"
      ]
     },
     "execution_count": 127,
     "metadata": {},
     "output_type": "execute_result"
    }
   ],
   "source": [
    "len(gdf)"
   ]
  },
  {
   "cell_type": "code",
   "execution_count": 130,
   "metadata": {},
   "outputs": [],
   "source": [
    "gdf_1000 = gdf.sample(1000)\n",
    "gdf_1000.to_file(\"phil_tweets.shp\")"
   ]
  },
  {
   "cell_type": "code",
   "execution_count": null,
   "metadata": {},
   "outputs": [],
   "source": []
  }
 ],
 "metadata": {
  "kernelspec": {
   "display_name": "Python 3",
   "language": "python",
   "name": "python3"
  },
  "language_info": {
   "codemirror_mode": {
    "name": "ipython",
    "version": 3
   },
   "file_extension": ".py",
   "mimetype": "text/x-python",
   "name": "python",
   "nbconvert_exporter": "python",
   "pygments_lexer": "ipython3",
   "version": "3.6.6"
  }
 },
 "nbformat": 4,
 "nbformat_minor": 4
}
