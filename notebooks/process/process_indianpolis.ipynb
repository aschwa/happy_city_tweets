{
 "cells": [
  {
   "cell_type": "code",
   "execution_count": 2,
   "metadata": {},
   "outputs": [],
   "source": [
    "%load_ext autoreload\n",
    "%autoreload 2\n",
    "%reload_ext autoreload"
   ]
  },
  {
   "cell_type": "code",
   "execution_count": 1,
   "metadata": {
    "ExecuteTime": {
     "end_time": "2020-03-03T21:16:17.530664Z",
     "start_time": "2020-03-03T21:16:17.491992Z"
    }
   },
   "outputs": [],
   "source": [
    "import json\n",
    "import os\n",
    "import pandas as pd\n",
    "from datetime import datetime\n",
    "from dotenv import load_dotenv, find_dotenv\n",
    "from pathlib import Path\n",
    "from src.func import tweet_utils\n",
    "from src.func import regex\n",
    "from src.func import labmtgen\n",
    "from src.sentiment.senti_utils import *\n",
    "#from src.scripts.process_tweets import *\n",
    "from labMTsimple.storyLab import *\n",
    "import random\n",
    "import numpy as np\n",
    "from collections import Counter\n",
    "from collections import defaultdict\n",
    "import seaborn as sns\n",
    "%matplotlib inline"
   ]
  },
  {
   "cell_type": "code",
   "execution_count": 2,
   "metadata": {},
   "outputs": [],
   "source": [
    "# Loop through cities\n",
    "tweet_dir= Path(\"../data/processed/park_user_tweets_0530/\")\n",
    "cities = list(tweet_dir.glob(\"*.json\"))\n",
    "\n",
    "## load all stop wordds\n",
    "stop_file = Path(\"../src/sentiment/city_stops.json\")\n",
    "with open(stop_file, 'r') as fp:\n",
    "    stop_dict  = json.load(fp)"
   ]
  },
  {
   "cell_type": "code",
   "execution_count": 3,
   "metadata": {},
   "outputs": [
    {
     "name": "stdout",
     "output_type": "stream",
     "text": [
      "IN_Indianapolis_1836003\n"
     ]
    },
    {
     "data": {
      "text/plain": [
       "5660"
      ]
     },
     "execution_count": 3,
     "metadata": {},
     "output_type": "execute_result"
    }
   ],
   "source": [
    "print(cities[16].stem)\n",
    "with open(cities[16], 'r') as f:\n",
    "    park_user_tweets = json.load(f)\n",
    "\n",
    "indiana_user_tweets = list(park_user_tweets.items())\n",
    "len(indiana_user_tweets)"
   ]
  },
  {
   "cell_type": "code",
   "execution_count": 4,
   "metadata": {},
   "outputs": [
    {
     "name": "stdout",
     "output_type": "stream",
     "text": [
      "Broad Ripple Park Cheering on @sportinghmp in the @IndyCityFutbol All Star game! http://t.co/ogAXehp3B9 Broad Ripple Park 18360030171\n",
      "Victory Field (Indians Baseball) Impromptu double date with this hunk @swhite003 #indiansgame @ Victory Field http://t.co/p5gsZtHd6g Victory Field (Indians Baseball) 18360030269\n",
      "Victory Field (Indians Baseball) Indians game @ Victory Field http://t.co/uM57jQB2wX Victory Field (Indians Baseball) 18360030269\n"
     ]
    }
   ],
   "source": [
    "for tweets in indiana_user_tweets[:100]:\n",
    "    for tweet in tweets[1]:\n",
    "        if \"game\" in tweet['pure_text'] and not pd.isnull(tweet['ParkID']):\n",
    "            print(tweet['Park_Name'], tweet['pure_text'], tweet['Park_Name'], tweet['ParkID'])"
   ]
  },
  {
   "cell_type": "code",
   "execution_count": 5,
   "metadata": {},
   "outputs": [],
   "source": [
    "baseball_id = \"18360030269\""
   ]
  },
  {
   "cell_type": "code",
   "execution_count": 7,
   "metadata": {},
   "outputs": [],
   "source": [
    "bcount = 0\n",
    "park_user_nob = {}\n",
    "for user, tweets in park_user_tweets.items():\n",
    "    new_tweets = []\n",
    "    for tweet in tweets:\n",
    "        if tweet['ParkID'] !=  baseball_id:\n",
    "            new_tweets.append(tweet)\n",
    "        else:\n",
    "            bcount +=1\n",
    "    park_user_nob[user] = new_tweets\n",
    "    "
   ]
  },
  {
   "cell_type": "code",
   "execution_count": 24,
   "metadata": {},
   "outputs": [],
   "source": [
    "with open(cities[16], 'w') as fp:\n",
    "    json.dump(park_user_nob,fp)"
   ]
  },
  {
   "cell_type": "code",
   "execution_count": null,
   "metadata": {},
   "outputs": [],
   "source": []
  }
 ],
 "metadata": {
  "kernelspec": {
   "display_name": "Python 3",
   "language": "python",
   "name": "python3"
  },
  "language_info": {
   "codemirror_mode": {
    "name": "ipython",
    "version": 3
   },
   "file_extension": ".py",
   "mimetype": "text/x-python",
   "name": "python",
   "nbconvert_exporter": "python",
   "pygments_lexer": "ipython3",
   "version": "3.6.6"
  }
 },
 "nbformat": 4,
 "nbformat_minor": 4
}
