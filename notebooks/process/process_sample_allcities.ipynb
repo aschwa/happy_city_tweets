{
 "cells": [
  {
   "cell_type": "code",
   "execution_count": 1,
   "metadata": {},
   "outputs": [],
   "source": [
    "%load_ext autoreload\n",
    "%autoreload 2\n",
    "%reload_ext autoreload"
   ]
  },
  {
   "cell_type": "code",
   "execution_count": 3,
   "metadata": {
    "ExecuteTime": {
     "end_time": "2020-03-03T21:16:17.530664Z",
     "start_time": "2020-03-03T21:16:17.491992Z"
    }
   },
   "outputs": [],
   "source": [
    "import json\n",
    "import os\n",
    "import pandas as pd\n",
    "from datetime import datetime\n",
    "from dotenv import load_dotenv, find_dotenv\n",
    "from pathlib import Path\n",
    "from src.func import tweet_utils\n",
    "from src.func import regex\n",
    "from src.func import labmtgen\n",
    "from src.sentiment.senti_utils import *\n",
    "#from src.scripts.process_tweets import *\n",
    "from labMTsimple.storyLab import *\n",
    "import random\n",
    "import numpy as np\n",
    "from collections import Counter\n",
    "from collections import defaultdict\n",
    "import seaborn as sns\n",
    "%matplotlib inline"
   ]
  },
  {
   "cell_type": "code",
   "execution_count": 4,
   "metadata": {},
   "outputs": [],
   "source": [
    "# Loop through cities\n",
    "tweet_dir= Path(\"../data/processed/park_user_tweets_0530/\")\n",
    "cities = list(tweet_dir.glob(\"*.json\"))\n",
    "\n",
    "## load all stop wordds\n",
    "stop_file = Path(\"../src/sentiment/city_stops.json\")\n",
    "with open(stop_file, 'r') as fp:\n",
    "    stop_dict  = json.load(fp)"
   ]
  },
  {
   "cell_type": "code",
   "execution_count": 5,
   "metadata": {},
   "outputs": [],
   "source": [
    "#Create a dictionary fo each set of tweets and stop words by city\n",
    "city_park_stops = {}\n",
    "city_park_text = {}\n",
    "city_user_text = {}\n",
    "city_time_text = {}"
   ]
  },
  {
   "cell_type": "code",
   "execution_count": 6,
   "metadata": {},
   "outputs": [
    {
     "name": "stdout",
     "output_type": "stream",
     "text": [
      "CO_Denver_0820000.json 2873\n",
      "AZ_Phoenix_0455000.json 5019\n",
      "FL_Jacksonville_1235000.json 2308\n",
      "TX_Austin_4805000.json 10166\n",
      "TX_Fort_Worth_4827000.json 3294\n",
      "TX_El_Paso_4824000.json 1191\n",
      "CA_San_Diego_0666000.json 12885\n",
      "TN_Memphis_4748000.json 2308\n",
      "DC_Washington_1150000.json 19756\n",
      "WA_Seattle_5363000.json 5600\n",
      "IL_Chicago_1714000.json 24295\n",
      "TX_Houston_4835000.json 10341\n",
      "MA_Boston_2507000.json 15871\n",
      "MI_Detroit_2622000.json 2906\n",
      "NC_Charlotte_3712000.json 3165\n",
      "NY_New_York_3651000.json 78853\n",
      "IN_Indianapolis_1836003.json 3567\n",
      "TX_San_Antonio_4865000.json 8637\n",
      "TX_Dallas_4819000.json 8229\n",
      "OH_Columbus_3918000.json 3532\n",
      "PA_Philadelphia_4260000.json 18330\n",
      "CA_Los_Angeles_0644000.json 25083\n",
      "MD_Baltimore_2404000.json 3964\n",
      "CA_San_Jose_0668000.json 3272\n",
      "CA_San_Francisco_0667000.json 22049\n"
     ]
    }
   ],
   "source": [
    "# loop through cities. load tweets. get list of park, 2 kinds of control tweets and park names, same to dicts\n",
    "for city in tweet_dir.glob(\"*.json\"):\n",
    "    if city.name not in city_park_text.keys():\n",
    "        with open(city, 'r') as f:\n",
    "            park_user_tweets = json.load(f)\n",
    "        park_tweet_text, user_tweet_text, time_tweet_text, park_list = get_both_control_text(park_user_tweets)\n",
    "        city_park_text[city.name] = park_tweet_text\n",
    "        city_time_text[city.name] = time_tweet_text\n",
    "        city_user_text[city.name] = user_tweet_text\n",
    "        city_park_stops[city.name] = get_park_stopwords(park_list)\n",
    "        print(city.name, len(park_tweet_text))"
   ]
  },
  {
   "cell_type": "code",
   "execution_count": 7,
   "metadata": {},
   "outputs": [],
   "source": [
    "##save each thing to a sample folder with name of date sample was run (user control tweet may change each time)\n",
    "today = \"0601\"\n",
    "results_dir = Path(\"../data/processed/combined_tweets/tweet_samples_{}\".format(today))\n",
    "with open(results_dir/Path(\"park_tweets.json\"), 'w') as fp:\n",
    "    json.dump(city_park_text,fp)\n",
    "with open(results_dir/Path(\"time_tweets.json\"), 'w') as fp:\n",
    "    json.dump(city_time_text,fp)\n",
    "with open(results_dir/Path(\"user_tweets.json\"), 'w') as fp:\n",
    "    json.dump(city_user_text,fp)\n",
    "with open(results_dir/Path(\"park_stops.json\"), 'w') as fp:\n",
    "    json.dump(city_park_stops,fp)"
   ]
  },
  {
   "cell_type": "code",
   "execution_count": null,
   "metadata": {},
   "outputs": [],
   "source": []
  }
 ],
 "metadata": {
  "kernelspec": {
   "display_name": "Python 3",
   "language": "python",
   "name": "python3"
  },
  "language_info": {
   "codemirror_mode": {
    "name": "ipython",
    "version": 3
   },
   "file_extension": ".py",
   "mimetype": "text/x-python",
   "name": "python",
   "nbconvert_exporter": "python",
   "pygments_lexer": "ipython3",
   "version": "3.6.6"
  }
 },
 "nbformat": 4,
 "nbformat_minor": 4
}
