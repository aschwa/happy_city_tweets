{
 "cells": [
  {
   "cell_type": "code",
   "execution_count": 1,
   "metadata": {
    "ExecuteTime": {
     "end_time": "2020-03-03T21:16:17.530664Z",
     "start_time": "2020-03-03T21:16:17.491992Z"
    }
   },
   "outputs": [],
   "source": [
    "%load_ext autoreload\n",
    "%autoreload 2"
   ]
  },
  {
   "cell_type": "code",
   "execution_count": 2,
   "metadata": {
    "ExecuteTime": {
     "end_time": "2020-03-04T12:48:15.684959Z",
     "start_time": "2020-03-04T12:48:15.641891Z"
    }
   },
   "outputs": [],
   "source": [
    "import json\n",
    "import os\n",
    "import pandas as pd\n",
    "from datetime import datetime\n",
    "from dotenv import load_dotenv, find_dotenv\n",
    "from pathlib import Path\n",
    "from src.func import tweet_utils\n",
    "from src.func import regex\n",
    "from src.func import labmtgen\n",
    "from src.sentiment.senti_utils import *\n",
    "from labMTsimple.storyLab import *\n",
    "import random\n",
    "import numpy as np\n",
    "from collections import Counter\n",
    "import matplotlib.pyplot as plt"
   ]
  },
  {
   "cell_type": "markdown",
   "metadata": {},
   "source": [
    "Read excel file with word frequencies, manually labeled \"remove\" column\n",
    "list all remove words by city which are on separate sheets"
   ]
  },
  {
   "cell_type": "code",
   "execution_count": 7,
   "metadata": {},
   "outputs": [],
   "source": [
    "xls = pd.ExcelFile('./results/words/city_words.xlsx')\n",
    "sheets =  pd.read_excel(xls, None)\n",
    "\n",
    "words_investigate = {}\n",
    "for city, df in sheets.items():\n",
    "    words_investigate[city] = list(df[df.remove ==1.0].word.values)\n",
    "\n",
    "#words_investigate\n",
    "#set(sum(words_investigate.values(), []))"
   ]
  },
  {
   "cell_type": "code",
   "execution_count": 8,
   "metadata": {},
   "outputs": [
    {
     "data": {
      "text/plain": [
       "{'CA_San_Francisco_0667000': ['festival', 'music', 'young', 'flowers'],\n",
       " 'AZ_Phoenix_0455000': ['garden', 'hospital', 'zoo'],\n",
       " 'FL_Jacksonville_1235000': ['science', 'museum'],\n",
       " 'TX_Austin_4805000': ['music', 'limits', 'accident'],\n",
       " 'CA_San_Diego_0666000': ['zoo', 'sea'],\n",
       " 'DC_Washington_1150000': ['war', 'bill', 'united', 'health'],\n",
       " 'WA_Seattle_5363000': ['health', 'surgery', 'emergency'],\n",
       " 'IL_Chicago_1714000': ['museum', 'music', 'art', 'festival', 'riot'],\n",
       " 'TX_Houston_4835000': ['hospital',\n",
       "  'traffic',\n",
       "  'delay',\n",
       "  'zoo',\n",
       "  'accident',\n",
       "  'science',\n",
       "  'museum'],\n",
       " 'OH_Cleveland_3916000': ['garden', 'beach', 'island'],\n",
       " 'MA_Boston_2507000': ['closed', 'ma', 'partners', 'festival'],\n",
       " 'NY_New_York_3651000': ['festival', 'natural'],\n",
       " 'TX_San_Antonio_4865000': ['zoo'],\n",
       " 'TX_Dallas_4819000': ['festival', 'music', 'health'],\n",
       " 'PA_Philadelphia_4260000': ['independence', 'art'],\n",
       " 'CA_Los_Angeles_0644000': ['zoo', 'science', 'festival'],\n",
       " 'CA_San_Jose_0668000': ['raging'],\n",
       " 'CO_Denver_0820000': ['zoo', 'nature', 'science', 'museum', 'international'],\n",
       " 'TX_Fort_Worth_4827000': [],\n",
       " 'TX_El_Paso_4824000': ['music', 'festival'],\n",
       " 'TN_Memphis_4748000': ['steal', 'music', 'sugar', 'festival'],\n",
       " 'MI_Detroit_2622000': ['beach'],\n",
       " 'NC_Charlotte_3712000': ['shot', 'young', 'hiring'],\n",
       " 'IN_Indianapolis_1836003': ['health', 'accident'],\n",
       " 'OH_Columbus_3918000': ['roses', 'festival', 'gardens'],\n",
       " 'MD_Baltimore_2404000': ['closed', 'jobs']}"
      ]
     },
     "execution_count": 8,
     "metadata": {},
     "output_type": "execute_result"
    }
   ],
   "source": [
    "words_investigate"
   ]
  },
  {
   "cell_type": "code",
   "execution_count": 13,
   "metadata": {},
   "outputs": [],
   "source": [
    "all_stops = ['museum','art','festival','garden','gardens','zoo','closed','traffic','accident','hiring']\n",
    "\n",
    "city_words = []\n",
    "for city in words_investigate.values():\n",
    "    city_words += city\n",
    "city_words = list(set(city_words+all_stops))"
   ]
  },
  {
   "cell_type": "code",
   "execution_count": 14,
   "metadata": {},
   "outputs": [
    {
     "data": {
      "text/plain": [
       "['museum',\n",
       " 'art',\n",
       " 'festival',\n",
       " 'garden',\n",
       " 'gardens',\n",
       " 'zoo',\n",
       " 'closed',\n",
       " 'traffic',\n",
       " 'accident',\n",
       " 'hiring']"
      ]
     },
     "execution_count": 14,
     "metadata": {},
     "output_type": "execute_result"
    }
   ],
   "source": [
    "all_stops"
   ]
  },
  {
   "cell_type": "code",
   "execution_count": 15,
   "metadata": {},
   "outputs": [],
   "source": [
    "lang = 'english'\n",
    "labMT,labMTvector,labMTwordList = emotionFileReader(stopval=1.0,lang=lang,returnVector=True)"
   ]
  },
  {
   "cell_type": "code",
   "execution_count": 17,
   "metadata": {},
   "outputs": [
    {
     "name": "stdout",
     "output_type": "stream",
     "text": [
      "flowers 7.56\n",
      "young 6.82\n",
      "beach 7.94\n",
      "steal 2.46\n",
      "partners 7.12\n",
      "international 6.56\n",
      "art 6.6\n",
      "zoo 6.62\n",
      "health 7.22\n",
      "garden 7.22\n",
      "united 7.32\n",
      "island 6.78\n",
      "emergency 3.06\n",
      "independence 7.28\n",
      "accident 2.32\n",
      "hospital 3.5\n",
      "roses 7.52\n",
      "jobs 6.32\n",
      "science 6.86\n",
      "sugar 6.74\n",
      "war 1.8\n",
      "nature 7.24\n",
      "bill 3.64\n",
      "festival 7.7\n",
      "sea 6.94\n",
      "shot 2.5\n",
      "museum 6.68\n",
      "gardens 7.24\n",
      "closed 3.66\n",
      "raging 3.42\n",
      "delay 3.38\n",
      "music 8.02\n",
      "riot 2.92\n",
      "hiring 6.34\n",
      "limits 4.0\n",
      "natural 6.56\n",
      "traffic 3.34\n",
      "ma 6.08\n",
      "surgery 2.66\n"
     ]
    }
   ],
   "source": [
    "pos = 0\n",
    "for word in city_words:\n",
    "    val = labMTvector[labMTwordList.index(word)]\n",
    "    print(word, labMTvector[labMTwordList.index(word)])\n",
    "    if val > 6:\n",
    "        pos +=1 "
   ]
  },
  {
   "cell_type": "code",
   "execution_count": 25,
   "metadata": {},
   "outputs": [],
   "source": [
    "with open('results/city_stops.json', 'w') as fp:\n",
    "    json.dump(city_words, fp)"
   ]
  }
 ],
 "metadata": {
  "kernelspec": {
   "display_name": "Python 3",
   "language": "python",
   "name": "python3"
  },
  "language_info": {
   "codemirror_mode": {
    "name": "ipython",
    "version": 3
   },
   "file_extension": ".py",
   "mimetype": "text/x-python",
   "name": "python",
   "nbconvert_exporter": "python",
   "pygments_lexer": "ipython3",
   "version": "3.6.6"
  }
 },
 "nbformat": 4,
 "nbformat_minor": 4
}
