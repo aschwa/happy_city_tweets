{
 "cells": [
  {
   "cell_type": "code",
   "execution_count": 1,
   "metadata": {
    "ExecuteTime": {
     "end_time": "2020-03-03T21:16:17.530664Z",
     "start_time": "2020-03-03T21:16:17.491992Z"
    }
   },
   "outputs": [],
   "source": [
    "%load_ext autoreload\n",
    "%autoreload 2"
   ]
  },
  {
   "cell_type": "code",
   "execution_count": 4,
   "metadata": {
    "ExecuteTime": {
     "end_time": "2020-03-04T12:48:15.684959Z",
     "start_time": "2020-03-04T12:48:15.641891Z"
    }
   },
   "outputs": [],
   "source": [
    "import json\n",
    "import os\n",
    "import pandas as pd\n",
    "from datetime import datetime\n",
    "from dotenv import load_dotenv, find_dotenv\n",
    "from pathlib import Path\n",
    "from src.func import tweet_utils\n",
    "from src.func import regex\n",
    "from src.func import labmtgen\n",
    "from src.sentiment.senti_utils import *\n",
    "from labMTsimple.storyLab import *\n",
    "import random\n",
    "import numpy as np\n",
    "from collections import Counter\n",
    "import matplotlib.pyplot as plt"
   ]
  },
  {
   "cell_type": "code",
   "execution_count": 5,
   "metadata": {},
   "outputs": [],
   "source": [
    "tweet_dir= Path(\"../data/processed/tweets/\")\n",
    "city = Path(\"../data/processed/tweets/CA_San_Diego_0666000.json\")"
   ]
  },
  {
   "cell_type": "code",
   "execution_count": 25,
   "metadata": {},
   "outputs": [
    {
     "name": "stdout",
     "output_type": "stream",
     "text": [
      "CO_Denver_0820000\n",
      "TX_Fort_Worth_4827000\n",
      "TX_El_Paso_4824000\n",
      "TN_Memphis_4748000\n",
      "MI_Detroit_2622000\n",
      "NC_Charlotte_3712000\n",
      "IN_Indianapolis_1836003\n",
      "OH_Columbus_3918000\n",
      "MD_Baltimore_2404000\n"
     ]
    }
   ],
   "source": [
    "lang = 'english'\n",
    "labMT,labMTvector,labMTwordList = emotionFileReader(stopval=1.0,lang=lang,returnVector=True)\n",
    "# Find Most influential words using labmt shift method\n",
    "\n",
    "for city in tweet_dir.glob(\"*.json\"):\n",
    "    city_name = city.stem\n",
    "    if city_name not in old_city:\n",
    "        print(\"{}\".format(city_name))\n",
    "        PVec, CVec,pStops = getVecs(city)\n",
    "        PVec, Pval = labmtSimpleSentiment(PVec,pStops)\n",
    "        CVec, Cval = labmtSimpleSentiment(CVec,pStops)\n",
    "        sortedMag,sortedWords,sortedType,sumTypes = shift(CVec, PVec,labMTvector, labMTwordList,sort=True)\n",
    "        city_words = []\n",
    "        for i in range(50):\n",
    "            word = sortedWords[i]\n",
    "            entry = {\"word\":word, \"valence\":labMTvector[labMTwordList.index(word)], \"contribution\":sortedMag[i]}\n",
    "            city_words.append(entry)\n",
    "        city_df = pd.DataFrame.from_records(city_words, index='word')\n",
    "        with pd.ExcelWriter('./results/city_words.xlsx', mode='a') as writer:\n",
    "            city_df.to_excel(writer, sheet_name=city.stem)"
   ]
  },
  {
   "cell_type": "code",
   "execution_count": 40,
   "metadata": {},
   "outputs": [],
   "source": [
    "xls = pd.ExcelFile('./results/city_words.xlsx')\n",
    "sheets =  pd.read_excel(xls, None)"
   ]
  },
  {
   "cell_type": "code",
   "execution_count": 45,
   "metadata": {},
   "outputs": [],
   "source": [
    "words_investigate = {}\n",
    "for city, df in sheets.items():\n",
    "    words_investigate[city] = list(df[df.remove ==1.0].word.values)"
   ]
  },
  {
   "cell_type": "code",
   "execution_count": 47,
   "metadata": {},
   "outputs": [
    {
     "data": {
      "text/plain": [
       "{'CA_San_Francisco_0667000': ['festival', 'music', 'young', 'flowers'],\n",
       " 'AZ_Phoenix_0455000': ['garden', 'hospital', 'zoo'],\n",
       " 'FL_Jacksonville_1235000': ['science', 'museum'],\n",
       " 'TX_Austin_4805000': ['music', 'limits', 'accident'],\n",
       " 'CA_San_Diego_0666000': ['zoo', 'sea'],\n",
       " 'DC_Washington_1150000': ['war', 'bill', 'united', 'health'],\n",
       " 'WA_Seattle_5363000': ['health', 'surgery', 'emergency'],\n",
       " 'IL_Chicago_1714000': ['museum', 'music', 'art', 'festival', 'riot'],\n",
       " 'TX_Houston_4835000': ['hospital',\n",
       "  'traffic',\n",
       "  'delay',\n",
       "  'stop',\n",
       "  'accident',\n",
       "  'science',\n",
       "  'museum'],\n",
       " 'OH_Cleveland_3916000': ['garden', 'beach', 'island'],\n",
       " 'MA_Boston_2507000': ['closed', 'ma', 'partners', 'festival'],\n",
       " 'NY_New_York_3651000': ['festival', 'natural'],\n",
       " 'TX_San_Antonio_4865000': ['cafe', 'zoo'],\n",
       " 'TX_Dallas_4819000': ['festival', 'music', 'health'],\n",
       " 'PA_Philadelphia_4260000': ['independence', 'art'],\n",
       " 'CA_Los_Angeles_0644000': ['zoo', 'science', 'festival'],\n",
       " 'CA_San_Jose_0668000': ['christmas', 'raging'],\n",
       " 'CO_Denver_0820000': ['zoo', 'nature', 'science', 'museum', 'international'],\n",
       " 'TX_Fort_Worth_4827000': [],\n",
       " 'TX_El_Paso_4824000': ['music', 'festival'],\n",
       " 'TN_Memphis_4748000': ['steal', 'music', 'sugar', 'festival'],\n",
       " 'MI_Detroit_2622000': ['beach'],\n",
       " 'NC_Charlotte_3712000': ['shot', 'young', 'hiring'],\n",
       " 'IN_Indianapolis_1836003': ['health', 'accident'],\n",
       " 'OH_Columbus_3918000': ['roses', 'festival', 'gardens'],\n",
       " 'MD_Baltimore_2404000': ['closed', 'jobs']}"
      ]
     },
     "execution_count": 47,
     "metadata": {},
     "output_type": "execute_result"
    }
   ],
   "source": [
    "words_investigate"
   ]
  }
 ],
 "metadata": {
  "kernelspec": {
   "display_name": "Python 3",
   "language": "python",
   "name": "python3"
  },
  "language_info": {
   "codemirror_mode": {
    "name": "ipython",
    "version": 3
   },
   "file_extension": ".py",
   "mimetype": "text/x-python",
   "name": "python",
   "nbconvert_exporter": "python",
   "pygments_lexer": "ipython3",
   "version": "3.6.6"
  }
 },
 "nbformat": 4,
 "nbformat_minor": 4
}
